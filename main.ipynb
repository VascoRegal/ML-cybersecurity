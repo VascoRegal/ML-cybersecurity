{
 "cells": [
  {
   "cell_type": "code",
   "execution_count": 1,
   "metadata": {
    "ExecuteTime": {
     "end_time": "2018-09-11T17:48:50.352373Z",
     "start_time": "2018-09-11T17:48:50.341906Z"
    }
   },
   "outputs": [],
   "source": [
    "# see http://icsdweb.aegean.gr/awid for more info"
   ]
  },
  {
   "cell_type": "code",
   "execution_count": 2,
   "metadata": {
    "ExecuteTime": {
     "end_time": "2018-09-12T01:23:43.095572Z",
     "start_time": "2018-09-12T01:23:43.070303Z"
    }
   },
   "outputs": [
    {
     "name": "stderr",
     "output_type": "stream",
     "text": [
      "2022-06-29 20:19:59.066858: W tensorflow/stream_executor/platform/default/dso_loader.cc:64] Could not load dynamic library 'libcudart.so.11.0'; dlerror: libcudart.so.11.0: cannot open shared object file: No such file or directory\n",
      "2022-06-29 20:19:59.066906: I tensorflow/stream_executor/cuda/cudart_stub.cc:29] Ignore above cudart dlerror if you do not have a GPU set up on your machine.\n"
     ]
    }
   ],
   "source": [
    "import pandas as pd\n",
    "import matplotlib.pyplot as plt\n",
    "import seaborn as sns\n",
    "import keras\n",
    "import numpy as np\n",
    "import tensorflow as tf\n",
    "from sklearn.model_selection import train_test_split\n",
    "from tensorflow.keras.models import Sequential, load_model\n",
    "from tensorflow.keras.layers import Dense\n",
    "from keras.wrappers.scikit_learn import KerasClassifier\n",
    "from sklearn.pipeline import Pipeline\n",
    "from sklearn.preprocessing import StandardScaler\n",
    "from sklearn.model_selection import cross_val_score\n",
    "from sklearn.metrics import accuracy_score\n"
   ]
  },
  {
   "cell_type": "code",
   "execution_count": 3,
   "metadata": {},
   "outputs": [],
   "source": [
    "# helper funcs\n",
    "def class_distribution_bar(series, title):\n",
    "    series['class'].value_counts(normalize=True).plot(kind=\"bar\")\n",
    "\n",
    "    plt.gcf()\n",
    "    plt.xlabel(\"Class\")\n",
    "    plt.ylabel(\"Frequency\")\n",
    "    plt.title(title)\n",
    "    \n",
    "def correlated_features(corr):\n",
    "    sorted_mat = corr.unstack().sort_values().dropna()\n",
    "\n",
    "    visited = []\n",
    "    to_drop = []\n",
    "\n",
    "    print(f\"{'Feature 1':30} {'Feature 2':30} {'Correlation':10}\")\n",
    "    for i, x in sorted_mat.items():\n",
    "        if x < 0.95:\n",
    "            continue\n",
    "        if i[0] == i[1]:\n",
    "            continue\n",
    "        if ( (i[0], i[1]) in visited ) or ( (i[1], i[0]) in visited ):\n",
    "            continue\n",
    "        visited.append((i[0], i[1]))\n",
    "        print(f\"{i[0]:30} {i[1]:30} {x:02}\")\n",
    "        to_drop.append(i[1])\n",
    "    return to_drop\n",
    "# simple function to test the accuracy of a model fitted on training data on our testing data\n",
    "def get_test_accuracy_of(model):\n",
    "    y_preds = model.predict(X_test)\n",
    "    return accuracy_score(y_preds, y_test)"
   ]
  },
  {
   "cell_type": "code",
   "execution_count": 4,
   "metadata": {
    "ExecuteTime": {
     "end_time": "2018-09-11T17:48:51.186105Z",
     "start_time": "2018-09-11T17:48:51.020660Z"
    },
    "code_folding": [
     0
    ]
   },
   "outputs": [],
   "source": [
    "# http://icsdweb.aegean.gr/awid/features.html\n",
    "\n",
    "# get the names of the features\n",
    "    \n",
    "features = ['frame.interface_id',\n",
    " 'frame.dlt',\n",
    " 'frame.offset_shift',\n",
    " 'frame.time_epoch',\n",
    " 'frame.time_delta',\n",
    " 'frame.time_delta_displayed',\n",
    " 'frame.time_relative',\n",
    " 'frame.len',\n",
    " 'frame.cap_len',\n",
    " 'frame.marked',\n",
    " 'frame.ignored',\n",
    " 'radiotap.version',\n",
    " 'radiotap.pad',\n",
    " 'radiotap.length',\n",
    " 'radiotap.present.tsft',\n",
    " 'radiotap.present.flags',\n",
    " 'radiotap.present.rate',\n",
    " 'radiotap.present.channel',\n",
    " 'radiotap.present.fhss',\n",
    " 'radiotap.present.dbm_antsignal',\n",
    " 'radiotap.present.dbm_antnoise',\n",
    " 'radiotap.present.lock_quality',\n",
    " 'radiotap.present.tx_attenuation',\n",
    " 'radiotap.present.db_tx_attenuation',\n",
    " 'radiotap.present.dbm_tx_power',\n",
    " 'radiotap.present.antenna',\n",
    " 'radiotap.present.db_antsignal',\n",
    " 'radiotap.present.db_antnoise',\n",
    " 'radiotap.present.rxflags',\n",
    " 'radiotap.present.xchannel',\n",
    " 'radiotap.present.mcs',\n",
    " 'radiotap.present.ampdu',\n",
    " 'radiotap.present.vht',\n",
    " 'radiotap.present.reserved',\n",
    " 'radiotap.present.rtap_ns',\n",
    " 'radiotap.present.vendor_ns',\n",
    " 'radiotap.present.ext',\n",
    " 'radiotap.mactime',\n",
    " 'radiotap.flags.cfp',\n",
    " 'radiotap.flags.preamble',\n",
    " 'radiotap.flags.wep',\n",
    " 'radiotap.flags.frag',\n",
    " 'radiotap.flags.fcs',\n",
    " 'radiotap.flags.datapad',\n",
    " 'radiotap.flags.badfcs',\n",
    " 'radiotap.flags.shortgi',\n",
    " 'radiotap.datarate',\n",
    " 'radiotap.channel.freq',\n",
    " 'radiotap.channel.type.turbo',\n",
    " 'radiotap.channel.type.cck',\n",
    " 'radiotap.channel.type.ofdm',\n",
    " 'radiotap.channel.type.2ghz',\n",
    " 'radiotap.channel.type.5ghz',\n",
    " 'radiotap.channel.type.passive',\n",
    " 'radiotap.channel.type.dynamic',\n",
    " 'radiotap.channel.type.gfsk',\n",
    " 'radiotap.channel.type.gsm',\n",
    " 'radiotap.channel.type.sturbo',\n",
    " 'radiotap.channel.type.half',\n",
    " 'radiotap.channel.type.quarter',\n",
    " 'radiotap.dbm_antsignal',\n",
    " 'radiotap.antenna',\n",
    " 'radiotap.rxflags.badplcp',\n",
    " 'wlan.fc.type_subtype',\n",
    " 'wlan.fc.version',\n",
    " 'wlan.fc.type',\n",
    " 'wlan.fc.subtype',\n",
    " 'wlan.fc.ds',\n",
    " 'wlan.fc.frag',\n",
    " 'wlan.fc.retry',\n",
    " 'wlan.fc.pwrmgt',\n",
    " 'wlan.fc.moredata',\n",
    " 'wlan.fc.protected',\n",
    " 'wlan.fc.order',\n",
    " 'wlan.duration',\n",
    " 'wlan.ra',\n",
    " 'wlan.da',\n",
    " 'wlan.ta',\n",
    " 'wlan.sa',\n",
    " 'wlan.bssid',\n",
    " 'wlan.frag',\n",
    " 'wlan.seq',\n",
    " 'wlan.bar.type',\n",
    " 'wlan.ba.control.ackpolicy',\n",
    " 'wlan.ba.control.multitid',\n",
    " 'wlan.ba.control.cbitmap',\n",
    " 'wlan.bar.compressed.tidinfo',\n",
    " 'wlan.ba.bm',\n",
    " 'wlan.fcs_good',\n",
    " 'wlan_mgt.fixed.capabilities.ess',\n",
    " 'wlan_mgt.fixed.capabilities.ibss',\n",
    " 'wlan_mgt.fixed.capabilities.cfpoll.ap',\n",
    " 'wlan_mgt.fixed.capabilities.privacy',\n",
    " 'wlan_mgt.fixed.capabilities.preamble',\n",
    " 'wlan_mgt.fixed.capabilities.pbcc',\n",
    " 'wlan_mgt.fixed.capabilities.agility',\n",
    " 'wlan_mgt.fixed.capabilities.spec_man',\n",
    " 'wlan_mgt.fixed.capabilities.short_slot_time',\n",
    " 'wlan_mgt.fixed.capabilities.apsd',\n",
    " 'wlan_mgt.fixed.capabilities.radio_measurement',\n",
    " 'wlan_mgt.fixed.capabilities.dsss_ofdm',\n",
    " 'wlan_mgt.fixed.capabilities.del_blk_ack',\n",
    " 'wlan_mgt.fixed.capabilities.imm_blk_ack',\n",
    " 'wlan_mgt.fixed.listen_ival',\n",
    " 'wlan_mgt.fixed.current_ap',\n",
    " 'wlan_mgt.fixed.status_code',\n",
    " 'wlan_mgt.fixed.timestamp',\n",
    " 'wlan_mgt.fixed.beacon',\n",
    " 'wlan_mgt.fixed.aid',\n",
    " 'wlan_mgt.fixed.reason_code',\n",
    " 'wlan_mgt.fixed.auth.alg',\n",
    " 'wlan_mgt.fixed.auth_seq',\n",
    " 'wlan_mgt.fixed.category_code',\n",
    " 'wlan_mgt.fixed.htact',\n",
    " 'wlan_mgt.fixed.chanwidth',\n",
    " 'wlan_mgt.fixed.fragment',\n",
    " 'wlan_mgt.fixed.sequence',\n",
    " 'wlan_mgt.tagged.all',\n",
    " 'wlan_mgt.ssid',\n",
    " 'wlan_mgt.ds.current_channel',\n",
    " 'wlan_mgt.tim.dtim_count',\n",
    " 'wlan_mgt.tim.dtim_period',\n",
    " 'wlan_mgt.tim.bmapctl.multicast',\n",
    " 'wlan_mgt.tim.bmapctl.offset',\n",
    " 'wlan_mgt.country_info.environment',\n",
    " 'wlan_mgt.rsn.version',\n",
    " 'wlan_mgt.rsn.gcs.type',\n",
    " 'wlan_mgt.rsn.pcs.count',\n",
    " 'wlan_mgt.rsn.akms.count',\n",
    " 'wlan_mgt.rsn.akms.type',\n",
    " 'wlan_mgt.rsn.capabilities.preauth',\n",
    " 'wlan_mgt.rsn.capabilities.no_pairwise',\n",
    " 'wlan_mgt.rsn.capabilities.ptksa_replay_counter',\n",
    " 'wlan_mgt.rsn.capabilities.gtksa_replay_counter',\n",
    " 'wlan_mgt.rsn.capabilities.mfpr',\n",
    " 'wlan_mgt.rsn.capabilities.mfpc',\n",
    " 'wlan_mgt.rsn.capabilities.peerkey',\n",
    " 'wlan_mgt.tcprep.trsmt_pow',\n",
    " 'wlan_mgt.tcprep.link_mrg',\n",
    " 'wlan.wep.iv',\n",
    " 'wlan.wep.key',\n",
    " 'wlan.wep.icv',\n",
    " 'wlan.tkip.extiv',\n",
    " 'wlan.ccmp.extiv',\n",
    " 'wlan.qos.tid',\n",
    " 'wlan.qos.priority',\n",
    " 'wlan.qos.eosp',\n",
    " 'wlan.qos.ack',\n",
    " 'wlan.qos.amsdupresent',\n",
    " 'wlan.qos.buf_state_indicated',\n",
    " 'wlan.qos.bit4',\n",
    " 'wlan.qos.txop_dur_req',\n",
    " 'wlan.qos.buf_state_indicated1',\n",
    " 'data.len',\n",
    " 'class']"
   ]
  },
  {
   "cell_type": "code",
   "execution_count": 5,
   "metadata": {
    "ExecuteTime": {
     "end_time": "2018-09-11T17:49:31.230772Z",
     "start_time": "2018-09-11T17:48:51.191479Z"
    }
   },
   "outputs": [
    {
     "data": {
      "text/plain": [
       "(1000000, 155)"
      ]
     },
     "execution_count": 5,
     "metadata": {},
     "output_type": "execute_result"
    }
   ],
   "source": [
    "# import a training set\n",
    "awid = pd.read_csv(\"data/AWID-CLS-R-Trn.csv\", low_memory=False, header=None, names=features)\n",
    "\n",
    "# see the number of rows/columns\n",
    "awid.shape"
   ]
  },
  {
   "cell_type": "code",
   "execution_count": 6,
   "metadata": {
    "ExecuteTime": {
     "end_time": "2018-09-11T17:49:31.305996Z",
     "start_time": "2018-09-11T17:49:31.241224Z"
    }
   },
   "outputs": [
    {
     "data": {
      "text/html": [
       "<div>\n",
       "<style scoped>\n",
       "    .dataframe tbody tr th:only-of-type {\n",
       "        vertical-align: middle;\n",
       "    }\n",
       "\n",
       "    .dataframe tbody tr th {\n",
       "        vertical-align: top;\n",
       "    }\n",
       "\n",
       "    .dataframe thead th {\n",
       "        text-align: right;\n",
       "    }\n",
       "</style>\n",
       "<table border=\"1\" class=\"dataframe\">\n",
       "  <thead>\n",
       "    <tr style=\"text-align: right;\">\n",
       "      <th></th>\n",
       "      <th>frame.interface_id</th>\n",
       "      <th>frame.dlt</th>\n",
       "      <th>frame.offset_shift</th>\n",
       "      <th>frame.time_epoch</th>\n",
       "      <th>frame.time_delta</th>\n",
       "      <th>frame.time_delta_displayed</th>\n",
       "      <th>frame.time_relative</th>\n",
       "      <th>frame.len</th>\n",
       "      <th>frame.cap_len</th>\n",
       "      <th>frame.marked</th>\n",
       "      <th>...</th>\n",
       "      <th>wlan.qos.priority</th>\n",
       "      <th>wlan.qos.eosp</th>\n",
       "      <th>wlan.qos.ack</th>\n",
       "      <th>wlan.qos.amsdupresent</th>\n",
       "      <th>wlan.qos.buf_state_indicated</th>\n",
       "      <th>wlan.qos.bit4</th>\n",
       "      <th>wlan.qos.txop_dur_req</th>\n",
       "      <th>wlan.qos.buf_state_indicated1</th>\n",
       "      <th>data.len</th>\n",
       "      <th>class</th>\n",
       "    </tr>\n",
       "  </thead>\n",
       "  <tbody>\n",
       "    <tr>\n",
       "      <th>0</th>\n",
       "      <td>0</td>\n",
       "      <td>?</td>\n",
       "      <td>0.0</td>\n",
       "      <td>1.393661e+09</td>\n",
       "      <td>0.024271</td>\n",
       "      <td>0.024271</td>\n",
       "      <td>0.024271</td>\n",
       "      <td>185</td>\n",
       "      <td>185</td>\n",
       "      <td>0</td>\n",
       "      <td>...</td>\n",
       "      <td>?</td>\n",
       "      <td>?</td>\n",
       "      <td>?</td>\n",
       "      <td>?</td>\n",
       "      <td>?</td>\n",
       "      <td>?</td>\n",
       "      <td>?</td>\n",
       "      <td>?</td>\n",
       "      <td>?</td>\n",
       "      <td>normal</td>\n",
       "    </tr>\n",
       "    <tr>\n",
       "      <th>1</th>\n",
       "      <td>0</td>\n",
       "      <td>?</td>\n",
       "      <td>0.0</td>\n",
       "      <td>1.393661e+09</td>\n",
       "      <td>0.055325</td>\n",
       "      <td>0.055325</td>\n",
       "      <td>0.081227</td>\n",
       "      <td>159</td>\n",
       "      <td>159</td>\n",
       "      <td>0</td>\n",
       "      <td>...</td>\n",
       "      <td>?</td>\n",
       "      <td>?</td>\n",
       "      <td>?</td>\n",
       "      <td>?</td>\n",
       "      <td>?</td>\n",
       "      <td>?</td>\n",
       "      <td>?</td>\n",
       "      <td>?</td>\n",
       "      <td>?</td>\n",
       "      <td>normal</td>\n",
       "    </tr>\n",
       "    <tr>\n",
       "      <th>2</th>\n",
       "      <td>0</td>\n",
       "      <td>?</td>\n",
       "      <td>0.0</td>\n",
       "      <td>1.393661e+09</td>\n",
       "      <td>0.000005</td>\n",
       "      <td>0.000005</td>\n",
       "      <td>0.081647</td>\n",
       "      <td>40</td>\n",
       "      <td>40</td>\n",
       "      <td>0</td>\n",
       "      <td>...</td>\n",
       "      <td>?</td>\n",
       "      <td>?</td>\n",
       "      <td>?</td>\n",
       "      <td>?</td>\n",
       "      <td>?</td>\n",
       "      <td>?</td>\n",
       "      <td>?</td>\n",
       "      <td>?</td>\n",
       "      <td>?</td>\n",
       "      <td>normal</td>\n",
       "    </tr>\n",
       "    <tr>\n",
       "      <th>3</th>\n",
       "      <td>0</td>\n",
       "      <td>?</td>\n",
       "      <td>0.0</td>\n",
       "      <td>1.393661e+09</td>\n",
       "      <td>0.000142</td>\n",
       "      <td>0.000142</td>\n",
       "      <td>0.098481</td>\n",
       "      <td>40</td>\n",
       "      <td>40</td>\n",
       "      <td>0</td>\n",
       "      <td>...</td>\n",
       "      <td>?</td>\n",
       "      <td>?</td>\n",
       "      <td>?</td>\n",
       "      <td>?</td>\n",
       "      <td>?</td>\n",
       "      <td>?</td>\n",
       "      <td>?</td>\n",
       "      <td>?</td>\n",
       "      <td>?</td>\n",
       "      <td>normal</td>\n",
       "    </tr>\n",
       "    <tr>\n",
       "      <th>4</th>\n",
       "      <td>0</td>\n",
       "      <td>?</td>\n",
       "      <td>0.0</td>\n",
       "      <td>1.393661e+09</td>\n",
       "      <td>0.001801</td>\n",
       "      <td>0.001801</td>\n",
       "      <td>0.128349</td>\n",
       "      <td>185</td>\n",
       "      <td>185</td>\n",
       "      <td>0</td>\n",
       "      <td>...</td>\n",
       "      <td>?</td>\n",
       "      <td>?</td>\n",
       "      <td>?</td>\n",
       "      <td>?</td>\n",
       "      <td>?</td>\n",
       "      <td>?</td>\n",
       "      <td>?</td>\n",
       "      <td>?</td>\n",
       "      <td>?</td>\n",
       "      <td>normal</td>\n",
       "    </tr>\n",
       "    <tr>\n",
       "      <th>5</th>\n",
       "      <td>0</td>\n",
       "      <td>?</td>\n",
       "      <td>0.0</td>\n",
       "      <td>1.393661e+09</td>\n",
       "      <td>0.000023</td>\n",
       "      <td>0.000023</td>\n",
       "      <td>0.140866</td>\n",
       "      <td>54</td>\n",
       "      <td>54</td>\n",
       "      <td>0</td>\n",
       "      <td>...</td>\n",
       "      <td>?</td>\n",
       "      <td>?</td>\n",
       "      <td>?</td>\n",
       "      <td>?</td>\n",
       "      <td>?</td>\n",
       "      <td>?</td>\n",
       "      <td>?</td>\n",
       "      <td>?</td>\n",
       "      <td>?</td>\n",
       "      <td>normal</td>\n",
       "    </tr>\n",
       "    <tr>\n",
       "      <th>6</th>\n",
       "      <td>0</td>\n",
       "      <td>?</td>\n",
       "      <td>0.0</td>\n",
       "      <td>1.393661e+09</td>\n",
       "      <td>0.042729</td>\n",
       "      <td>0.042729</td>\n",
       "      <td>0.183633</td>\n",
       "      <td>159</td>\n",
       "      <td>159</td>\n",
       "      <td>0</td>\n",
       "      <td>...</td>\n",
       "      <td>?</td>\n",
       "      <td>?</td>\n",
       "      <td>?</td>\n",
       "      <td>?</td>\n",
       "      <td>?</td>\n",
       "      <td>?</td>\n",
       "      <td>?</td>\n",
       "      <td>?</td>\n",
       "      <td>?</td>\n",
       "      <td>normal</td>\n",
       "    </tr>\n",
       "    <tr>\n",
       "      <th>7</th>\n",
       "      <td>0</td>\n",
       "      <td>?</td>\n",
       "      <td>0.0</td>\n",
       "      <td>1.393661e+09</td>\n",
       "      <td>0.006308</td>\n",
       "      <td>0.006308</td>\n",
       "      <td>0.215243</td>\n",
       "      <td>54</td>\n",
       "      <td>54</td>\n",
       "      <td>0</td>\n",
       "      <td>...</td>\n",
       "      <td>?</td>\n",
       "      <td>?</td>\n",
       "      <td>?</td>\n",
       "      <td>?</td>\n",
       "      <td>?</td>\n",
       "      <td>?</td>\n",
       "      <td>?</td>\n",
       "      <td>?</td>\n",
       "      <td>?</td>\n",
       "      <td>normal</td>\n",
       "    </tr>\n",
       "    <tr>\n",
       "      <th>8</th>\n",
       "      <td>0</td>\n",
       "      <td>?</td>\n",
       "      <td>0.0</td>\n",
       "      <td>1.393661e+09</td>\n",
       "      <td>0.002270</td>\n",
       "      <td>0.002270</td>\n",
       "      <td>0.217518</td>\n",
       "      <td>1524</td>\n",
       "      <td>1524</td>\n",
       "      <td>0</td>\n",
       "      <td>...</td>\n",
       "      <td>1</td>\n",
       "      <td>0</td>\n",
       "      <td>0x0000</td>\n",
       "      <td>0</td>\n",
       "      <td>?</td>\n",
       "      <td>?</td>\n",
       "      <td>?</td>\n",
       "      <td>0</td>\n",
       "      <td>1460</td>\n",
       "      <td>normal</td>\n",
       "    </tr>\n",
       "  </tbody>\n",
       "</table>\n",
       "<p>9 rows × 155 columns</p>\n",
       "</div>"
      ],
      "text/plain": [
       "   frame.interface_id frame.dlt  frame.offset_shift  frame.time_epoch  \\\n",
       "0                   0         ?                 0.0      1.393661e+09   \n",
       "1                   0         ?                 0.0      1.393661e+09   \n",
       "2                   0         ?                 0.0      1.393661e+09   \n",
       "3                   0         ?                 0.0      1.393661e+09   \n",
       "4                   0         ?                 0.0      1.393661e+09   \n",
       "5                   0         ?                 0.0      1.393661e+09   \n",
       "6                   0         ?                 0.0      1.393661e+09   \n",
       "7                   0         ?                 0.0      1.393661e+09   \n",
       "8                   0         ?                 0.0      1.393661e+09   \n",
       "\n",
       "   frame.time_delta  frame.time_delta_displayed  frame.time_relative  \\\n",
       "0          0.024271                    0.024271             0.024271   \n",
       "1          0.055325                    0.055325             0.081227   \n",
       "2          0.000005                    0.000005             0.081647   \n",
       "3          0.000142                    0.000142             0.098481   \n",
       "4          0.001801                    0.001801             0.128349   \n",
       "5          0.000023                    0.000023             0.140866   \n",
       "6          0.042729                    0.042729             0.183633   \n",
       "7          0.006308                    0.006308             0.215243   \n",
       "8          0.002270                    0.002270             0.217518   \n",
       "\n",
       "   frame.len  frame.cap_len  frame.marked  ...  wlan.qos.priority  \\\n",
       "0        185            185             0  ...                  ?   \n",
       "1        159            159             0  ...                  ?   \n",
       "2         40             40             0  ...                  ?   \n",
       "3         40             40             0  ...                  ?   \n",
       "4        185            185             0  ...                  ?   \n",
       "5         54             54             0  ...                  ?   \n",
       "6        159            159             0  ...                  ?   \n",
       "7         54             54             0  ...                  ?   \n",
       "8       1524           1524             0  ...                  1   \n",
       "\n",
       "   wlan.qos.eosp  wlan.qos.ack  wlan.qos.amsdupresent  \\\n",
       "0              ?             ?                      ?   \n",
       "1              ?             ?                      ?   \n",
       "2              ?             ?                      ?   \n",
       "3              ?             ?                      ?   \n",
       "4              ?             ?                      ?   \n",
       "5              ?             ?                      ?   \n",
       "6              ?             ?                      ?   \n",
       "7              ?             ?                      ?   \n",
       "8              0        0x0000                      0   \n",
       "\n",
       "   wlan.qos.buf_state_indicated  wlan.qos.bit4  wlan.qos.txop_dur_req  \\\n",
       "0                             ?              ?                      ?   \n",
       "1                             ?              ?                      ?   \n",
       "2                             ?              ?                      ?   \n",
       "3                             ?              ?                      ?   \n",
       "4                             ?              ?                      ?   \n",
       "5                             ?              ?                      ?   \n",
       "6                             ?              ?                      ?   \n",
       "7                             ?              ?                      ?   \n",
       "8                             ?              ?                      ?   \n",
       "\n",
       "   wlan.qos.buf_state_indicated1  data.len   class  \n",
       "0                              ?         ?  normal  \n",
       "1                              ?         ?  normal  \n",
       "2                              ?         ?  normal  \n",
       "3                              ?         ?  normal  \n",
       "4                              ?         ?  normal  \n",
       "5                              ?         ?  normal  \n",
       "6                              ?         ?  normal  \n",
       "7                              ?         ?  normal  \n",
       "8                              0      1460  normal  \n",
       "\n",
       "[9 rows x 155 columns]"
      ]
     },
     "execution_count": 6,
     "metadata": {},
     "output_type": "execute_result"
    }
   ],
   "source": [
    "# they use ? as a null attribute. We will eventually have to replace them with None values\n",
    "awid.head(n=9)"
   ]
  },
  {
   "cell_type": "code",
   "execution_count": 7,
   "metadata": {
    "ExecuteTime": {
     "end_time": "2018-09-11T17:49:31.601124Z",
     "start_time": "2018-09-11T17:49:31.316370Z"
    }
   },
   "outputs": [
    {
     "data": {
      "text/plain": [
       "normal           0.837615\n",
       "injection        0.065379\n",
       "impersonation    0.048522\n",
       "flooding         0.048484\n",
       "Name: class, dtype: float64"
      ]
     },
     "execution_count": 7,
     "metadata": {},
     "output_type": "execute_result"
    }
   ],
   "source": [
    "# see the distribution of response vars\n",
    "awid['class'].value_counts(normalize=True)"
   ]
  },
  {
   "cell_type": "code",
   "execution_count": 8,
   "metadata": {
    "ExecuteTime": {
     "end_time": "2018-09-11T17:49:44.941489Z",
     "start_time": "2018-09-11T17:49:31.607027Z"
    }
   },
   "outputs": [
    {
     "data": {
      "text/plain": [
       "frame.interface_id               0\n",
       "frame.dlt                        0\n",
       "frame.offset_shift               0\n",
       "frame.time_epoch                 0\n",
       "frame.time_delta                 0\n",
       "                                ..\n",
       "wlan.qos.bit4                    0\n",
       "wlan.qos.txop_dur_req            0\n",
       "wlan.qos.buf_state_indicated1    0\n",
       "data.len                         0\n",
       "class                            0\n",
       "Length: 155, dtype: int64"
      ]
     },
     "execution_count": 8,
     "metadata": {},
     "output_type": "execute_result"
    }
   ],
   "source": [
    "# claims there are no null values because of the ?'s'\n",
    "awid.isna().sum()"
   ]
  },
  {
   "cell_type": "code",
   "execution_count": 9,
   "metadata": {
    "ExecuteTime": {
     "end_time": "2018-09-11T17:50:21.202504Z",
     "start_time": "2018-09-11T17:49:44.948005Z"
    }
   },
   "outputs": [],
   "source": [
    "# replace the ? marks with None\n",
    "awid.replace({\"?\": None}, inplace=True)"
   ]
  },
  {
   "cell_type": "code",
   "execution_count": 10,
   "metadata": {
    "ExecuteTime": {
     "end_time": "2018-09-11T17:50:31.946653Z",
     "start_time": "2018-09-11T17:50:21.212174Z"
    }
   },
   "outputs": [
    {
     "data": {
      "text/plain": [
       "frame.interface_id                     0\n",
       "frame.dlt                        1000000\n",
       "frame.offset_shift                     0\n",
       "frame.time_epoch                       0\n",
       "frame.time_delta                       0\n",
       "                                  ...   \n",
       "wlan.qos.bit4                     924693\n",
       "wlan.qos.txop_dur_req             924693\n",
       "wlan.qos.buf_state_indicated1     737014\n",
       "data.len                          473721\n",
       "class                                  0\n",
       "Length: 155, dtype: int64"
      ]
     },
     "execution_count": 10,
     "metadata": {},
     "output_type": "execute_result"
    }
   ],
   "source": [
    "# Many missing pieces of data!\n",
    "awid.isna().sum()"
   ]
  },
  {
   "cell_type": "code",
   "execution_count": 11,
   "metadata": {
    "ExecuteTime": {
     "end_time": "2018-09-11T17:50:42.751148Z",
     "start_time": "2018-09-11T17:50:31.950979Z"
    }
   },
   "outputs": [
    {
     "data": {
      "text/plain": [
       "(72,)"
      ]
     },
     "execution_count": 11,
     "metadata": {},
     "output_type": "execute_result"
    }
   ],
   "source": [
    "# goal is to remove columns that have over 50% of missing data\n",
    "columns_with_mostly_null_data = awid.columns[awid.isnull().mean() >= 0.4]\n",
    "# 72 columns are going to be affected!\n",
    "columns_with_mostly_null_data.shape"
   ]
  },
  {
   "cell_type": "code",
   "execution_count": 12,
   "metadata": {
    "ExecuteTime": {
     "end_time": "2018-09-11T17:50:44.330318Z",
     "start_time": "2018-09-11T17:50:42.756922Z"
    }
   },
   "outputs": [],
   "source": [
    "# drop the columns with over half missing data\n",
    "awid.drop(columns_with_mostly_null_data, axis=1, inplace=True)"
   ]
  },
  {
   "cell_type": "code",
   "execution_count": 13,
   "metadata": {
    "ExecuteTime": {
     "end_time": "2018-09-11T17:50:44.359876Z",
     "start_time": "2018-09-11T17:50:44.340246Z"
    }
   },
   "outputs": [
    {
     "data": {
      "text/plain": [
       "(1000000, 83)"
      ]
     },
     "execution_count": 13,
     "metadata": {},
     "output_type": "execute_result"
    }
   ],
   "source": [
    "awid.shape"
   ]
  },
  {
   "cell_type": "code",
   "execution_count": 14,
   "metadata": {
    "ExecuteTime": {
     "end_time": "2018-09-11T17:50:50.514912Z",
     "start_time": "2018-09-11T17:50:44.367547Z"
    }
   },
   "outputs": [],
   "source": [
    "# now drop the rows that have missing values\n",
    "awid.dropna(inplace=True)  # drop rows with null data"
   ]
  },
  {
   "cell_type": "code",
   "execution_count": 15,
   "metadata": {
    "ExecuteTime": {
     "end_time": "2018-09-12T01:26:00.631348Z",
     "start_time": "2018-09-12T01:26:00.616544Z"
    }
   },
   "outputs": [
    {
     "data": {
      "text/plain": [
       "(782934, 83)"
      ]
     },
     "execution_count": 15,
     "metadata": {},
     "output_type": "execute_result"
    }
   ],
   "source": [
    "# lost 456,169 rows\n",
    "awid.shape"
   ]
  },
  {
   "cell_type": "code",
   "execution_count": 16,
   "metadata": {
    "ExecuteTime": {
     "end_time": "2018-09-11T17:50:50.722700Z",
     "start_time": "2018-09-11T17:50:50.520709Z"
    }
   },
   "outputs": [
    {
     "data": {
      "text/plain": [
       "normal           0.792594\n",
       "injection        0.083505\n",
       "impersonation    0.061975\n",
       "flooding         0.061926\n",
       "Name: class, dtype: float64"
      ]
     },
     "execution_count": 16,
     "metadata": {},
     "output_type": "execute_result"
    }
   ],
   "source": [
    "# doesn't affect our distribution too much\n",
    "\n",
    "# 0.878763  is our null accuracy. Our model must be better than this number to be a contender\n",
    "awid['class'].value_counts(normalize=True)"
   ]
  },
  {
   "cell_type": "code",
   "execution_count": 17,
   "metadata": {
    "ExecuteTime": {
     "end_time": "2018-09-11T18:21:26.505275Z",
     "start_time": "2018-09-11T18:21:25.763378Z"
    }
   },
   "outputs": [
    {
     "data": {
      "text/plain": [
       "(782934, 45)"
      ]
     },
     "execution_count": 17,
     "metadata": {},
     "output_type": "execute_result"
    }
   ],
   "source": [
    "# only select numerical columns for our ML algorithms, there should be more..\n",
    "awid.select_dtypes(['number']).shape"
   ]
  },
  {
   "cell_type": "code",
   "execution_count": 18,
   "metadata": {
    "ExecuteTime": {
     "end_time": "2018-09-11T18:22:52.129077Z",
     "start_time": "2018-09-11T18:22:21.440765Z"
    }
   },
   "outputs": [],
   "source": [
    "# transform all columns into numerical dtypes\n",
    "for col in awid.columns:\n",
    "    awid[col] = pd.to_numeric(awid[col], errors='ignore')"
   ]
  },
  {
   "cell_type": "code",
   "execution_count": 19,
   "metadata": {
    "ExecuteTime": {
     "end_time": "2018-09-11T18:22:55.225156Z",
     "start_time": "2018-09-11T18:22:52.132862Z"
    }
   },
   "outputs": [
    {
     "data": {
      "text/plain": [
       "(782934, 74)"
      ]
     },
     "execution_count": 19,
     "metadata": {},
     "output_type": "execute_result"
    }
   ],
   "source": [
    "# that makes more sense\n",
    "awid.select_dtypes(['number']).shape"
   ]
  },
  {
   "cell_type": "code",
   "execution_count": 20,
   "metadata": {
    "ExecuteTime": {
     "end_time": "2018-09-12T01:27:21.214774Z",
     "start_time": "2018-09-12T01:27:10.871973Z"
    }
   },
   "outputs": [
    {
     "data": {
      "text/html": [
       "<div>\n",
       "<style scoped>\n",
       "    .dataframe tbody tr th:only-of-type {\n",
       "        vertical-align: middle;\n",
       "    }\n",
       "\n",
       "    .dataframe tbody tr th {\n",
       "        vertical-align: top;\n",
       "    }\n",
       "\n",
       "    .dataframe thead th {\n",
       "        text-align: right;\n",
       "    }\n",
       "</style>\n",
       "<table border=\"1\" class=\"dataframe\">\n",
       "  <thead>\n",
       "    <tr style=\"text-align: right;\">\n",
       "      <th></th>\n",
       "      <th>frame.interface_id</th>\n",
       "      <th>frame.offset_shift</th>\n",
       "      <th>frame.time_epoch</th>\n",
       "      <th>frame.time_delta</th>\n",
       "      <th>frame.time_delta_displayed</th>\n",
       "      <th>frame.time_relative</th>\n",
       "      <th>frame.len</th>\n",
       "      <th>frame.cap_len</th>\n",
       "      <th>frame.marked</th>\n",
       "      <th>frame.ignored</th>\n",
       "      <th>...</th>\n",
       "      <th>wlan.fc.frag</th>\n",
       "      <th>wlan.fc.retry</th>\n",
       "      <th>wlan.fc.pwrmgt</th>\n",
       "      <th>wlan.fc.moredata</th>\n",
       "      <th>wlan.fc.protected</th>\n",
       "      <th>wlan.fc.order</th>\n",
       "      <th>wlan.duration</th>\n",
       "      <th>wlan.frag</th>\n",
       "      <th>wlan.seq</th>\n",
       "      <th>wlan.fcs_good</th>\n",
       "    </tr>\n",
       "  </thead>\n",
       "  <tbody>\n",
       "    <tr>\n",
       "      <th>count</th>\n",
       "      <td>782934.0</td>\n",
       "      <td>782934.0</td>\n",
       "      <td>7.829340e+05</td>\n",
       "      <td>782934.000000</td>\n",
       "      <td>782934.000000</td>\n",
       "      <td>782934.000000</td>\n",
       "      <td>782934.000000</td>\n",
       "      <td>782934.000000</td>\n",
       "      <td>782934.0</td>\n",
       "      <td>782934.0</td>\n",
       "      <td>...</td>\n",
       "      <td>782934.000000</td>\n",
       "      <td>782934.000000</td>\n",
       "      <td>782934.000000</td>\n",
       "      <td>782934.000000</td>\n",
       "      <td>782934.000000</td>\n",
       "      <td>782934.0</td>\n",
       "      <td>782934.000000</td>\n",
       "      <td>782934.000000</td>\n",
       "      <td>782934.000000</td>\n",
       "      <td>782934.0</td>\n",
       "    </tr>\n",
       "    <tr>\n",
       "      <th>mean</th>\n",
       "      <td>0.0</td>\n",
       "      <td>0.0</td>\n",
       "      <td>1.393663e+09</td>\n",
       "      <td>0.002467</td>\n",
       "      <td>0.002467</td>\n",
       "      <td>1947.650029</td>\n",
       "      <td>620.717656</td>\n",
       "      <td>620.717656</td>\n",
       "      <td>0.0</td>\n",
       "      <td>0.0</td>\n",
       "      <td>...</td>\n",
       "      <td>0.000860</td>\n",
       "      <td>0.156058</td>\n",
       "      <td>0.046098</td>\n",
       "      <td>0.002107</td>\n",
       "      <td>0.668551</td>\n",
       "      <td>0.0</td>\n",
       "      <td>107.535691</td>\n",
       "      <td>0.003705</td>\n",
       "      <td>1857.879482</td>\n",
       "      <td>1.0</td>\n",
       "    </tr>\n",
       "    <tr>\n",
       "      <th>std</th>\n",
       "      <td>0.0</td>\n",
       "      <td>0.0</td>\n",
       "      <td>8.655622e+02</td>\n",
       "      <td>0.006741</td>\n",
       "      <td>0.006741</td>\n",
       "      <td>865.562233</td>\n",
       "      <td>688.260926</td>\n",
       "      <td>688.260926</td>\n",
       "      <td>0.0</td>\n",
       "      <td>0.0</td>\n",
       "      <td>...</td>\n",
       "      <td>0.029306</td>\n",
       "      <td>0.362910</td>\n",
       "      <td>0.209698</td>\n",
       "      <td>0.045859</td>\n",
       "      <td>0.470735</td>\n",
       "      <td>0.0</td>\n",
       "      <td>127.759776</td>\n",
       "      <td>0.153893</td>\n",
       "      <td>1204.214008</td>\n",
       "      <td>0.0</td>\n",
       "    </tr>\n",
       "    <tr>\n",
       "      <th>min</th>\n",
       "      <td>0.0</td>\n",
       "      <td>0.0</td>\n",
       "      <td>1.393661e+09</td>\n",
       "      <td>0.000001</td>\n",
       "      <td>0.000001</td>\n",
       "      <td>0.024271</td>\n",
       "      <td>54.000000</td>\n",
       "      <td>54.000000</td>\n",
       "      <td>0.0</td>\n",
       "      <td>0.0</td>\n",
       "      <td>...</td>\n",
       "      <td>0.000000</td>\n",
       "      <td>0.000000</td>\n",
       "      <td>0.000000</td>\n",
       "      <td>0.000000</td>\n",
       "      <td>0.000000</td>\n",
       "      <td>0.0</td>\n",
       "      <td>0.000000</td>\n",
       "      <td>0.000000</td>\n",
       "      <td>0.000000</td>\n",
       "      <td>1.0</td>\n",
       "    </tr>\n",
       "    <tr>\n",
       "      <th>25%</th>\n",
       "      <td>0.0</td>\n",
       "      <td>0.0</td>\n",
       "      <td>1.393663e+09</td>\n",
       "      <td>0.000467</td>\n",
       "      <td>0.000467</td>\n",
       "      <td>1385.202560</td>\n",
       "      <td>98.000000</td>\n",
       "      <td>98.000000</td>\n",
       "      <td>0.0</td>\n",
       "      <td>0.0</td>\n",
       "      <td>...</td>\n",
       "      <td>0.000000</td>\n",
       "      <td>0.000000</td>\n",
       "      <td>0.000000</td>\n",
       "      <td>0.000000</td>\n",
       "      <td>0.000000</td>\n",
       "      <td>0.0</td>\n",
       "      <td>44.000000</td>\n",
       "      <td>0.000000</td>\n",
       "      <td>759.000000</td>\n",
       "      <td>1.0</td>\n",
       "    </tr>\n",
       "    <tr>\n",
       "      <th>50%</th>\n",
       "      <td>0.0</td>\n",
       "      <td>0.0</td>\n",
       "      <td>1.393663e+09</td>\n",
       "      <td>0.000805</td>\n",
       "      <td>0.000805</td>\n",
       "      <td>1949.666097</td>\n",
       "      <td>124.000000</td>\n",
       "      <td>124.000000</td>\n",
       "      <td>0.0</td>\n",
       "      <td>0.0</td>\n",
       "      <td>...</td>\n",
       "      <td>0.000000</td>\n",
       "      <td>0.000000</td>\n",
       "      <td>0.000000</td>\n",
       "      <td>0.000000</td>\n",
       "      <td>1.000000</td>\n",
       "      <td>0.0</td>\n",
       "      <td>44.000000</td>\n",
       "      <td>0.000000</td>\n",
       "      <td>1703.000000</td>\n",
       "      <td>1.0</td>\n",
       "    </tr>\n",
       "    <tr>\n",
       "      <th>75%</th>\n",
       "      <td>0.0</td>\n",
       "      <td>0.0</td>\n",
       "      <td>1.393664e+09</td>\n",
       "      <td>0.001444</td>\n",
       "      <td>0.001444</td>\n",
       "      <td>2766.098201</td>\n",
       "      <td>1552.000000</td>\n",
       "      <td>1552.000000</td>\n",
       "      <td>0.0</td>\n",
       "      <td>0.0</td>\n",
       "      <td>...</td>\n",
       "      <td>0.000000</td>\n",
       "      <td>0.000000</td>\n",
       "      <td>0.000000</td>\n",
       "      <td>0.000000</td>\n",
       "      <td>1.000000</td>\n",
       "      <td>0.0</td>\n",
       "      <td>314.000000</td>\n",
       "      <td>0.000000</td>\n",
       "      <td>2886.000000</td>\n",
       "      <td>1.0</td>\n",
       "    </tr>\n",
       "    <tr>\n",
       "      <th>max</th>\n",
       "      <td>0.0</td>\n",
       "      <td>0.0</td>\n",
       "      <td>1.393665e+09</td>\n",
       "      <td>0.350263</td>\n",
       "      <td>0.350263</td>\n",
       "      <td>3599.571287</td>\n",
       "      <td>1570.000000</td>\n",
       "      <td>1570.000000</td>\n",
       "      <td>0.0</td>\n",
       "      <td>0.0</td>\n",
       "      <td>...</td>\n",
       "      <td>1.000000</td>\n",
       "      <td>1.000000</td>\n",
       "      <td>1.000000</td>\n",
       "      <td>1.000000</td>\n",
       "      <td>1.000000</td>\n",
       "      <td>0.0</td>\n",
       "      <td>320.000000</td>\n",
       "      <td>12.000000</td>\n",
       "      <td>4095.000000</td>\n",
       "      <td>1.0</td>\n",
       "    </tr>\n",
       "  </tbody>\n",
       "</table>\n",
       "<p>8 rows × 74 columns</p>\n",
       "</div>"
      ],
      "text/plain": [
       "       frame.interface_id  frame.offset_shift  frame.time_epoch  \\\n",
       "count            782934.0            782934.0      7.829340e+05   \n",
       "mean                  0.0                 0.0      1.393663e+09   \n",
       "std                   0.0                 0.0      8.655622e+02   \n",
       "min                   0.0                 0.0      1.393661e+09   \n",
       "25%                   0.0                 0.0      1.393663e+09   \n",
       "50%                   0.0                 0.0      1.393663e+09   \n",
       "75%                   0.0                 0.0      1.393664e+09   \n",
       "max                   0.0                 0.0      1.393665e+09   \n",
       "\n",
       "       frame.time_delta  frame.time_delta_displayed  frame.time_relative  \\\n",
       "count     782934.000000               782934.000000        782934.000000   \n",
       "mean           0.002467                    0.002467          1947.650029   \n",
       "std            0.006741                    0.006741           865.562233   \n",
       "min            0.000001                    0.000001             0.024271   \n",
       "25%            0.000467                    0.000467          1385.202560   \n",
       "50%            0.000805                    0.000805          1949.666097   \n",
       "75%            0.001444                    0.001444          2766.098201   \n",
       "max            0.350263                    0.350263          3599.571287   \n",
       "\n",
       "           frame.len  frame.cap_len  frame.marked  frame.ignored  ...  \\\n",
       "count  782934.000000  782934.000000      782934.0       782934.0  ...   \n",
       "mean      620.717656     620.717656           0.0            0.0  ...   \n",
       "std       688.260926     688.260926           0.0            0.0  ...   \n",
       "min        54.000000      54.000000           0.0            0.0  ...   \n",
       "25%        98.000000      98.000000           0.0            0.0  ...   \n",
       "50%       124.000000     124.000000           0.0            0.0  ...   \n",
       "75%      1552.000000    1552.000000           0.0            0.0  ...   \n",
       "max      1570.000000    1570.000000           0.0            0.0  ...   \n",
       "\n",
       "        wlan.fc.frag  wlan.fc.retry  wlan.fc.pwrmgt  wlan.fc.moredata  \\\n",
       "count  782934.000000  782934.000000   782934.000000     782934.000000   \n",
       "mean        0.000860       0.156058        0.046098          0.002107   \n",
       "std         0.029306       0.362910        0.209698          0.045859   \n",
       "min         0.000000       0.000000        0.000000          0.000000   \n",
       "25%         0.000000       0.000000        0.000000          0.000000   \n",
       "50%         0.000000       0.000000        0.000000          0.000000   \n",
       "75%         0.000000       0.000000        0.000000          0.000000   \n",
       "max         1.000000       1.000000        1.000000          1.000000   \n",
       "\n",
       "       wlan.fc.protected  wlan.fc.order  wlan.duration      wlan.frag  \\\n",
       "count      782934.000000       782934.0  782934.000000  782934.000000   \n",
       "mean            0.668551            0.0     107.535691       0.003705   \n",
       "std             0.470735            0.0     127.759776       0.153893   \n",
       "min             0.000000            0.0       0.000000       0.000000   \n",
       "25%             0.000000            0.0      44.000000       0.000000   \n",
       "50%             1.000000            0.0      44.000000       0.000000   \n",
       "75%             1.000000            0.0     314.000000       0.000000   \n",
       "max             1.000000            0.0     320.000000      12.000000   \n",
       "\n",
       "            wlan.seq  wlan.fcs_good  \n",
       "count  782934.000000       782934.0  \n",
       "mean     1857.879482            1.0  \n",
       "std      1204.214008            0.0  \n",
       "min         0.000000            1.0  \n",
       "25%       759.000000            1.0  \n",
       "50%      1703.000000            1.0  \n",
       "75%      2886.000000            1.0  \n",
       "max      4095.000000            1.0  \n",
       "\n",
       "[8 rows x 74 columns]"
      ]
     },
     "execution_count": 20,
     "metadata": {},
     "output_type": "execute_result"
    }
   ],
   "source": [
    "# basic descroptive statistics\n",
    "awid.describe()"
   ]
  },
  {
   "cell_type": "code",
   "execution_count": 21,
   "metadata": {},
   "outputs": [
    {
     "name": "stdout",
     "output_type": "stream",
     "text": [
      "Feature 1                      Feature 2                      Correlation\n",
      "wlan.fc.protected              wlan.fc.type                   0.9554845088420875\n",
      "radiotap.channel.type.ofdm     radiotap.datarate              0.9817854007986889\n",
      "radiotap.mactime               frame.time_epoch               0.9999999751177027\n",
      "frame.time_epoch               frame.time_relative            0.9999999751178013\n",
      "frame.len                      frame.cap_len                  0.9999999999974033\n",
      "frame.time_delta_displayed     frame.time_delta               0.9999999999997028\n",
      "frame.time_relative            radiotap.mactime               0.9999999999997997\n"
     ]
    },
    {
     "data": {
      "image/png": "[encoded data removed]",
      "text/plain": [
       "<Figure size 1152x864 with 2 Axes>"
      ]
     },
     "metadata": {
      "needs_background": "light"
     },
     "output_type": "display_data"
    }
   ],
   "source": [
    "# run correlation matrix and plot\n",
    "f, ax = plt.subplots(figsize=(16, 12))\n",
    "corr = awid.corr()\n",
    "sns.heatmap(corr, mask=np.zeros_like(corr, dtype=bool),\n",
    "            cmap=sns.diverging_palette(220, 10, as_cmap=True),\n",
    "            square=True, ax=ax)\n",
    "\n",
    "features_corr = correlated_features(corr)"
   ]
  },
  {
   "cell_type": "code",
   "execution_count": 22,
   "metadata": {},
   "outputs": [
    {
     "name": "stdout",
     "output_type": "stream",
     "text": [
      "Before drop:\n",
      "(782934, 83)\n",
      "After drop:\n",
      "(782934, 77)\n"
     ]
    },
    {
     "data": {
      "image/png": "[encoded data removed]",
      "text/plain": [
       "<Figure size 432x288 with 1 Axes>"
      ]
     },
     "metadata": {
      "needs_background": "light"
     },
     "output_type": "display_data"
    }
   ],
   "source": [
    "print(\"Before drop:\")\n",
    "print(awid.shape)\n",
    "\n",
    "features_to_drop = [\"frame.cap_len\", \"frame.time_delta_displayed\", \"frame.time_epoch\", \"radiotap.mactime\", \"radiotap.datarate\", \"wlan.fc.protected\"]\n",
    "\n",
    "awid.drop(features_to_drop, inplace=True, axis=1)\n",
    "\n",
    "print(\"After drop:\")\n",
    "print(awid.shape)\n",
    "\n",
    "class_distribution_bar(awid, \"Initial Class Distribution\")"
   ]
  },
  {
   "cell_type": "code",
   "execution_count": 23,
   "metadata": {},
   "outputs": [
    {
     "data": {
      "image/png": "[encoded data removed]",
      "text/plain": [
       "<Figure size 432x288 with 1 Axes>"
      ]
     },
     "metadata": {
      "needs_background": "light"
     },
     "output_type": "display_data"
    }
   ],
   "source": [
    "\n",
    "\n",
    "df = awid.sample(frac=1)\n",
    "\n",
    "\n",
    "inj = df[df['class'] == 'injection']\n",
    "impers = df[df['class'] == 'impersonation']\n",
    "flooding = df[df['class'] == 'flooding']\n",
    "normal = df[df['class'] == 'normal']\n",
    "\n",
    "\n",
    "samples = min(len(inj), len(impers), len(flooding))\n",
    "\n",
    "awid = pd.concat([inj.sample(n=samples), impers.sample(n=samples), flooding.sample(n=samples), normal.sample(n=samples)])\n",
    "awid = awid.sample(frac=1).reset_index()\n",
    "awid['class'].value_counts(normalize=True)\n",
    "\n",
    "class_distribution_bar(awid, \"Balanced Class Distribution\")"
   ]
  },
  {
   "cell_type": "code",
   "execution_count": 24,
   "metadata": {},
   "outputs": [
    {
     "name": "stdout",
     "output_type": "stream",
     "text": [
      "(193936, 78)\n"
     ]
    }
   ],
   "source": [
    "print(awid.shape)\n",
    "X, y = awid.select_dtypes(['number']), awid['class']\n",
    "\n",
    "X_train, X_test, y_train, y_test = train_test_split(X, y, test_size=0.2, stratify=y, random_state=2)\n"
   ]
  },
  {
   "cell_type": "code",
   "execution_count": 25,
   "metadata": {},
   "outputs": [],
   "source": [
    "from sklearn.metrics import accuracy_score, f1_score\n",
    "from sklearn.metrics import classification_report, confusion_matrix\n",
    "from sklearn.preprocessing import LabelEncoder\n",
    "def model_analysis(model, X_train, y_train, X_test, y_test):\n",
    "\n",
    "    print(f\"> Model: {model.__class__}\\n\")\n",
    "    classes = ['flooding', 'impersonating', 'injection', 'normal']\n",
    "    \n",
    "    X_test_prediction = model.predict(X_test)\n",
    "    test_data_accuracy = accuracy_score(X_test_prediction, y_test)\n",
    "    f1 = f1_score(y_test, X_test_prediction, average = None)\n",
    "\n",
    "    print()\n",
    "    print(\"---- Model Analysis ----\")\n",
    "    print('Accuracy: ', test_data_accuracy)\n",
    "    print('F1 Score: ', f1)\n",
    "    \n",
    "    print()\n",
    "    \n",
    "    print(\"Confusion Matrix: \")\n",
    "    encoder = LabelEncoder()\n",
    "    y_pred = encoder.fit_transform(X_test_prediction)\n",
    "    y_expected = encoder.fit_transform(y_test)\n",
    "\n",
    "    con_mat = tf.math.confusion_matrix(labels=y_expected, predictions=y_pred).numpy()\n",
    "    \n",
    "    con_mat_norm = np.around(con_mat.astype('float') / con_mat.sum(axis=1)[:, np.newaxis], decimals=2)\n",
    "\n",
    "    con_mat_df = pd.DataFrame(con_mat_norm,\n",
    "                     index = classes, \n",
    "                     columns = classes)\n",
    "    \n",
    "    figure = plt.figure(figsize=(8, 8))\n",
    "    sns.heatmap(con_mat_df, annot=True,cmap=plt.cm.Blues)\n",
    "    plt.tight_layout()\n",
    "    plt.ylabel('True label')\n",
    "    plt.xlabel('Predicted label')\n",
    "    plt.show()\n",
    "    \n",
    "    print()\n",
    "    print(\"---- Classification Report ----\")\n",
    "    print(classification_report(y_test, model.predict(X_test)))"
   ]
  },
  {
   "cell_type": "code",
   "execution_count": 72,
   "metadata": {
    "ExecuteTime": {
     "end_time": "2018-09-11T18:44:05.911433Z",
     "start_time": "2018-09-11T18:43:57.554881Z"
    }
   },
   "outputs": [
    {
     "name": "stdout",
     "output_type": "stream",
     "text": [
      "> Model: <class 'sklearn.naive_bayes.GaussianNB'>\n",
      "\n",
      "\n",
      "---- Model Analysis ----\n",
      "Accuracy:  0.7434515829638032\n",
      "F1 Score:  [0.50376033 0.96215936 0.74237928 0.72503098]\n",
      "\n",
      "Confusion Matrix: \n"
     ]
    },
    {
     "data": {
      "image/png": "[encoded data removed]",
      "text/plain": [
       "<Figure size 576x576 with 2 Axes>"
      ]
     },
     "metadata": {
      "needs_background": "light"
     },
     "output_type": "display_data"
    },
    {
     "name": "stdout",
     "output_type": "stream",
     "text": [
      "\n",
      "---- Classification Report ----\n",
      "               precision    recall  f1-score   support\n",
      "\n",
      "     flooding       0.63      0.42      0.50      9697\n",
      "impersonation       0.97      0.96      0.96      9697\n",
      "    injection       0.59      0.99      0.74      9697\n",
      "       normal       0.91      0.60      0.73      9697\n",
      "\n",
      "     accuracy                           0.74     38788\n",
      "    macro avg       0.77      0.74      0.73     38788\n",
      " weighted avg       0.77      0.74      0.73     38788\n",
      "\n"
     ]
    }
   ],
   "source": [
    "# do a basic naive bayes fitting\n",
    "from sklearn.naive_bayes import GaussianNB\n",
    "\n",
    "nb = GaussianNB()\n",
    "\n",
    "# fit our model to the data\n",
    "nb.fit(X_train, y_train)\n",
    "\n",
    "model_analysis(nb, X_train, y_train, X_test, y_test)"
   ]
  },
  {
   "cell_type": "code",
   "execution_count": 73,
   "metadata": {
    "ExecuteTime": {
     "end_time": "2018-09-11T18:44:36.553216Z",
     "start_time": "2018-09-11T18:44:12.841324Z"
    }
   },
   "outputs": [
    {
     "name": "stderr",
     "output_type": "stream",
     "text": [
      "/home/sousa/.local/lib/python3.8/site-packages/sklearn/linear_model/_logistic.py:814: ConvergenceWarning: lbfgs failed to converge (status=1):\n",
      "STOP: TOTAL NO. of ITERATIONS REACHED LIMIT.\n",
      "\n",
      "Increase the number of iterations (max_iter) or scale the data as shown in:\n",
      "    https://scikit-learn.org/stable/modules/preprocessing.html\n",
      "Please also refer to the documentation for alternative solver options:\n",
      "    https://scikit-learn.org/stable/modules/linear_model.html#logistic-regression\n",
      "  n_iter_i = _check_optimize_result(\n"
     ]
    },
    {
     "name": "stdout",
     "output_type": "stream",
     "text": [
      "> Model: <class 'sklearn.linear_model._logistic.LogisticRegression'>\n",
      "\n",
      "\n",
      "---- Model Analysis ----\n",
      "Accuracy:  0.716123543363927\n",
      "F1 Score:  [0.64175361 0.8612631  0.65890951 0.68617439]\n",
      "\n",
      "Confusion Matrix: \n"
     ]
    },
    {
     "data": {
      "image/png": "[encoded data removed]",
      "text/plain": [
       "<Figure size 576x576 with 2 Axes>"
      ]
     },
     "metadata": {
      "needs_background": "light"
     },
     "output_type": "display_data"
    },
    {
     "name": "stdout",
     "output_type": "stream",
     "text": [
      "\n",
      "---- Classification Report ----\n",
      "               precision    recall  f1-score   support\n",
      "\n",
      "     flooding       0.62      0.66      0.64      9697\n",
      "impersonation       0.78      0.96      0.86      9697\n",
      "    injection       0.62      0.71      0.66      9697\n",
      "       normal       0.94      0.54      0.69      9697\n",
      "\n",
      "     accuracy                           0.72     38788\n",
      "    macro avg       0.74      0.72      0.71     38788\n",
      " weighted avg       0.74      0.72      0.71     38788\n",
      "\n"
     ]
    }
   ],
   "source": [
    "from sklearn.linear_model import LogisticRegression\n",
    "\n",
    "lr = LogisticRegression()\n",
    "\n",
    "lr.fit(X_train, y_train)\n",
    "\n",
    "model_analysis(lr, X_train, y_train, X_test, y_test)"
   ]
  },
  {
   "cell_type": "code",
   "execution_count": 75,
   "metadata": {
    "ExecuteTime": {
     "end_time": "2018-09-11T18:44:50.790091Z",
     "start_time": "2018-09-11T18:44:39.624541Z"
    }
   },
   "outputs": [
    {
     "name": "stdout",
     "output_type": "stream",
     "text": [
      "> Model: <class 'sklearn.tree._classes.DecisionTreeClassifier'>\n",
      "\n",
      "\n",
      "---- Model Analysis ----\n",
      "Accuracy:  0.9994070331030216\n",
      "F1 Score:  [0.99953592 0.99932945 0.99989688 0.9988661 ]\n",
      "\n",
      "Confusion Matrix: \n"
     ]
    },
    {
     "data": {
      "image/png": "[encoded data removed]",
      "text/plain": [
       "<Figure size 576x576 with 2 Axes>"
      ]
     },
     "metadata": {
      "needs_background": "light"
     },
     "output_type": "display_data"
    },
    {
     "name": "stdout",
     "output_type": "stream",
     "text": [
      "\n",
      "---- Classification Report ----\n",
      "               precision    recall  f1-score   support\n",
      "\n",
      "     flooding       1.00      1.00      1.00      9697\n",
      "impersonation       1.00      1.00      1.00      9697\n",
      "    injection       1.00      1.00      1.00      9697\n",
      "       normal       1.00      1.00      1.00      9697\n",
      "\n",
      "     accuracy                           1.00     38788\n",
      "    macro avg       1.00      1.00      1.00     38788\n",
      " weighted avg       1.00      1.00      1.00     38788\n",
      "\n"
     ]
    }
   ],
   "source": [
    "from sklearn.tree import DecisionTreeClassifier\n",
    "\n",
    "tree = DecisionTreeClassifier()\n",
    "\n",
    "tree.fit(X_train, y_train)\n",
    "\n",
    "model_analysis(tree, X_train, y_train, X_test, y_test)"
   ]
  },
  {
   "cell_type": "code",
   "execution_count": 76,
   "metadata": {
    "ExecuteTime": {
     "end_time": "2018-09-11T18:44:51.593791Z",
     "start_time": "2018-09-11T18:44:50.795143Z"
    }
   },
   "outputs": [
    {
     "data": {
      "text/html": [
       "<div>\n",
       "<style scoped>\n",
       "    .dataframe tbody tr th:only-of-type {\n",
       "        vertical-align: middle;\n",
       "    }\n",
       "\n",
       "    .dataframe tbody tr th {\n",
       "        vertical-align: top;\n",
       "    }\n",
       "\n",
       "    .dataframe thead th {\n",
       "        text-align: right;\n",
       "    }\n",
       "</style>\n",
       "<table border=\"1\" class=\"dataframe\">\n",
       "  <thead>\n",
       "    <tr style=\"text-align: right;\">\n",
       "      <th></th>\n",
       "      <th>feature</th>\n",
       "      <th>importance</th>\n",
       "    </tr>\n",
       "  </thead>\n",
       "  <tbody>\n",
       "    <tr>\n",
       "      <th>65</th>\n",
       "      <td>wlan.duration</td>\n",
       "      <td>0.315931</td>\n",
       "    </tr>\n",
       "    <tr>\n",
       "      <th>59</th>\n",
       "      <td>wlan.fc.subtype</td>\n",
       "      <td>0.283538</td>\n",
       "    </tr>\n",
       "    <tr>\n",
       "      <th>5</th>\n",
       "      <td>frame.len</td>\n",
       "      <td>0.179014</td>\n",
       "    </tr>\n",
       "    <tr>\n",
       "      <th>4</th>\n",
       "      <td>frame.time_relative</td>\n",
       "      <td>0.076228</td>\n",
       "    </tr>\n",
       "    <tr>\n",
       "      <th>61</th>\n",
       "      <td>wlan.fc.retry</td>\n",
       "      <td>0.068919</td>\n",
       "    </tr>\n",
       "    <tr>\n",
       "      <th>58</th>\n",
       "      <td>wlan.fc.type</td>\n",
       "      <td>0.052307</td>\n",
       "    </tr>\n",
       "    <tr>\n",
       "      <th>67</th>\n",
       "      <td>wlan.seq</td>\n",
       "      <td>0.016168</td>\n",
       "    </tr>\n",
       "    <tr>\n",
       "      <th>0</th>\n",
       "      <td>index</td>\n",
       "      <td>0.004332</td>\n",
       "    </tr>\n",
       "    <tr>\n",
       "      <th>54</th>\n",
       "      <td>radiotap.dbm_antsignal</td>\n",
       "      <td>0.002694</td>\n",
       "    </tr>\n",
       "    <tr>\n",
       "      <th>3</th>\n",
       "      <td>frame.time_delta</td>\n",
       "      <td>0.000869</td>\n",
       "    </tr>\n",
       "  </tbody>\n",
       "</table>\n",
       "</div>"
      ],
      "text/plain": [
       "                   feature  importance\n",
       "65           wlan.duration    0.315931\n",
       "59         wlan.fc.subtype    0.283538\n",
       "5                frame.len    0.179014\n",
       "4      frame.time_relative    0.076228\n",
       "61           wlan.fc.retry    0.068919\n",
       "58            wlan.fc.type    0.052307\n",
       "67                wlan.seq    0.016168\n",
       "0                    index    0.004332\n",
       "54  radiotap.dbm_antsignal    0.002694\n",
       "3         frame.time_delta    0.000869"
      ]
     },
     "execution_count": 76,
     "metadata": {},
     "output_type": "execute_result"
    }
   ],
   "source": [
    "# see gini scores of decision tree features\n",
    "pd.DataFrame({'feature':awid.select_dtypes(['number']).columns, \n",
    "              'importance':tree.feature_importances_}).sort_values('importance', ascending=False).head(10)"
   ]
  },
  {
   "cell_type": "code",
   "execution_count": 77,
   "metadata": {
    "ExecuteTime": {
     "end_time": "2018-09-11T18:45:07.603342Z",
     "start_time": "2018-09-11T18:44:51.600315Z"
    }
   },
   "outputs": [
    {
     "name": "stdout",
     "output_type": "stream",
     "text": [
      "> Model: <class 'sklearn.ensemble._forest.RandomForestClassifier'>\n",
      "\n",
      "\n",
      "---- Model Analysis ----\n",
      "Accuracy:  0.9998968753222646\n",
      "F1 Score:  [0.99984534 0.99994844 1.         0.99979371]\n",
      "\n",
      "Confusion Matrix: \n"
     ]
    },
    {
     "data": {
      "image/png": "[encoded data removed]",
      "text/plain": [
       "<Figure size 576x576 with 2 Axes>"
      ]
     },
     "metadata": {
      "needs_background": "light"
     },
     "output_type": "display_data"
    },
    {
     "name": "stdout",
     "output_type": "stream",
     "text": [
      "\n",
      "---- Classification Report ----\n",
      "               precision    recall  f1-score   support\n",
      "\n",
      "     flooding       1.00      1.00      1.00      9697\n",
      "impersonation       1.00      1.00      1.00      9697\n",
      "    injection       1.00      1.00      1.00      9697\n",
      "       normal       1.00      1.00      1.00      9697\n",
      "\n",
      "     accuracy                           1.00     38788\n",
      "    macro avg       1.00      1.00      1.00     38788\n",
      " weighted avg       1.00      1.00      1.00     38788\n",
      "\n"
     ]
    }
   ],
   "source": [
    "from sklearn.ensemble import RandomForestClassifier\n",
    "\n",
    "forest = RandomForestClassifier()\n",
    "\n",
    "forest.fit(X_train, y_train)\n",
    "\n",
    "model_analysis(forest, X_train, y_train, X_test, y_test)"
   ]
  },
  {
   "cell_type": "code",
   "execution_count": null,
   "metadata": {
    "ExecuteTime": {
     "end_time": "2018-09-11T18:01:06.692457Z",
     "start_time": "2018-09-11T18:01:06.681432Z"
    }
   },
   "outputs": [],
   "source": []
  },
  {
   "cell_type": "code",
   "execution_count": 78,
   "metadata": {
    "ExecuteTime": {
     "end_time": "2018-09-11T18:48:34.877155Z",
     "start_time": "2018-09-11T18:45:17.876024Z"
    }
   },
   "outputs": [
    {
     "name": "stdout",
     "output_type": "stream",
     "text": [
      "> Model: <class 'sklearn.pipeline.Pipeline'>\n",
      "\n",
      "\n",
      "---- Model Analysis ----\n",
      "Accuracy:  0.999484376611323\n",
      "F1 Score:  [0.99943284 0.99943261 0.99994844 0.99912367]\n",
      "\n",
      "Confusion Matrix: \n"
     ]
    },
    {
     "data": {
      "image/png": "[encoded data removed]",
      "text/plain": [
       "<Figure size 576x576 with 2 Axes>"
      ]
     },
     "metadata": {
      "needs_background": "light"
     },
     "output_type": "display_data"
    },
    {
     "name": "stdout",
     "output_type": "stream",
     "text": [
      "\n",
      "---- Classification Report ----\n",
      "               precision    recall  f1-score   support\n",
      "\n",
      "     flooding       1.00      1.00      1.00      9697\n",
      "impersonation       1.00      1.00      1.00      9697\n",
      "    injection       1.00      1.00      1.00      9697\n",
      "       normal       1.00      1.00      1.00      9697\n",
      "\n",
      "     accuracy                           1.00     38788\n",
      "    macro avg       1.00      1.00      1.00     38788\n",
      " weighted avg       1.00      1.00      1.00     38788\n",
      "\n"
     ]
    }
   ],
   "source": [
    "# Create a pipeline that will scale the numerical data and then feed the resulting data into a decision tree\n",
    "\n",
    "from sklearn.pipeline import Pipeline\n",
    "from sklearn.preprocessing import StandardScaler\n",
    "from sklearn.model_selection import GridSearchCV\n",
    "\n",
    "preprocessing = Pipeline([\n",
    "    (\"scale\", StandardScaler()),\n",
    "])\n",
    "\n",
    "pipeline = Pipeline([\n",
    "    (\"preprocessing\", preprocessing),\n",
    "    (\"classifier\", DecisionTreeClassifier())\n",
    "])\n",
    "\n",
    "# try varying levels of depth\n",
    "params = {\n",
    "    \"classifier__max_depth\": [None, 3, 5, 10], \n",
    "         }\n",
    "\n",
    "# instantiate a gridsearch module\n",
    "grid = GridSearchCV(pipeline, params)\n",
    "# fit the module\n",
    "grid.fit(X_train, y_train)\n",
    "\n",
    "# test the best model\n",
    "model_analysis(grid.best_estimator_, X_train, y_train, X_test, y_test)"
   ]
  },
  {
   "cell_type": "code",
   "execution_count": 79,
   "metadata": {
    "ExecuteTime": {
     "end_time": "2018-09-11T18:52:31.157867Z",
     "start_time": "2018-09-11T18:48:34.885991Z"
    }
   },
   "outputs": [
    {
     "name": "stdout",
     "output_type": "stream",
     "text": [
      "> Model: <class 'sklearn.pipeline.Pipeline'>\n",
      "\n",
      "\n",
      "---- Model Analysis ----\n",
      "Accuracy:  0.9998710941528308\n",
      "F1 Score:  [0.99979379 0.99994844 1.         0.99974212]\n",
      "\n",
      "Confusion Matrix: \n"
     ]
    },
    {
     "data": {
      "image/png": "[encoded data removed]",
      "text/plain": [
       "<Figure size 576x576 with 2 Axes>"
      ]
     },
     "metadata": {
      "needs_background": "light"
     },
     "output_type": "display_data"
    },
    {
     "name": "stdout",
     "output_type": "stream",
     "text": [
      "\n",
      "---- Classification Report ----\n",
      "               precision    recall  f1-score   support\n",
      "\n",
      "     flooding       1.00      1.00      1.00      9697\n",
      "impersonation       1.00      1.00      1.00      9697\n",
      "    injection       1.00      1.00      1.00      9697\n",
      "       normal       1.00      1.00      1.00      9697\n",
      "\n",
      "     accuracy                           1.00     38788\n",
      "    macro avg       1.00      1.00      1.00     38788\n",
      " weighted avg       1.00      1.00      1.00     38788\n",
      "\n"
     ]
    }
   ],
   "source": [
    "# try the same thing with a random forest\n",
    "\n",
    "preprocessing = Pipeline([\n",
    "    (\"scale\", StandardScaler()),\n",
    "])\n",
    "\n",
    "pipeline = Pipeline([\n",
    "    (\"preprocessing\", preprocessing),\n",
    "    (\"classifier\", RandomForestClassifier())\n",
    "])\n",
    "\n",
    "# try varying levels of depth\n",
    "params = {\n",
    "    \"classifier__max_depth\": [None, 3, 5, 10], \n",
    "         }\n",
    "\n",
    "grid = GridSearchCV(pipeline, params)\n",
    "grid.fit(X_train, y_train)\n",
    "# best accuracy so far!\n",
    "model_analysis(grid.best_estimator_, X_train, y_train, X_test, y_test)"
   ]
  },
  {
   "cell_type": "markdown",
   "metadata": {},
   "source": [
    "# Deep Learning Implementation"
   ]
  },
  {
   "cell_type": "code",
   "execution_count": 26,
   "metadata": {},
   "outputs": [],
   "source": [
    "from sklearn.preprocessing import LabelEncoder\n",
    "encoder = LabelEncoder()\n",
    "encoded_y_train = encoder.fit_transform(y_train)\n",
    "encoded_y_test = encoder.fit_transform(y_test)"
   ]
  },
  {
   "cell_type": "code",
   "execution_count": null,
   "metadata": {},
   "outputs": [],
   "source": []
  },
  {
   "cell_type": "code",
   "execution_count": 27,
   "metadata": {},
   "outputs": [],
   "source": [
    "def train_predict_and_save_model(model, model_name, X_train, y_train, X_test, y_test, epochs = 2, batch_size=32):\n",
    "    model.fit(X_train, y_train, epochs = epochs, batch_size = batch_size)\n",
    "    \n",
    "    y_hat = model.predict(X_test)\n",
    "    \n",
    "    return accuracy_score(encoded_y_test, y_hat)\n",
    "    #model.save(model_name)\n",
    "def evaluate_model(model, X_test, y_test):\n",
    "    \"\"\"\n",
    "    evaluate model on test set and show results in dataframe.\n",
    "    \n",
    "    Parameters\n",
    "    ----------\n",
    "    model : keras model\n",
    "        trained keras model.\n",
    "    X_test : numpy array\n",
    "        Features of holdout set.\n",
    "    y_test : numpy array\n",
    "        Labels of holdout set.\n",
    "        \n",
    "    Returns\n",
    "    -------\n",
    "    display_df : DataFrame\n",
    "        Pandas dataframe containing evaluation results.\n",
    "    \"\"\"\n",
    "    eval_dict = model.evaluate(X_test, y_test, return_dict=True)\n",
    "    \n",
    "    display_df = pd.DataFrame([eval_dict.values()], columns=[list(eval_dict.keys())])\n",
    "    \n",
    "    return display_df"
   ]
  },
  {
   "cell_type": "code",
   "execution_count": 28,
   "metadata": {},
   "outputs": [],
   "source": [
    "epochs = 20"
   ]
  },
  {
   "cell_type": "markdown",
   "metadata": {},
   "source": [
    "# Sequential Model"
   ]
  },
  {
   "cell_type": "code",
   "execution_count": 29,
   "metadata": {},
   "outputs": [
    {
     "name": "stderr",
     "output_type": "stream",
     "text": [
      "/tmp/ipykernel_13946/3889754841.py:10: DeprecationWarning: KerasClassifier is deprecated, use Sci-Keras (https://github.com/adriangb/scikeras) instead. See https://www.adriangb.com/scikeras/stable/migration.html for help migrating.\n",
      "  KerasClassifier(build_fn=create_baseline_model, epochs=100, batch_size=5, verbose=0, n=20)\n",
      "/tmp/ipykernel_13946/3889754841.py:12: DeprecationWarning: KerasClassifier is deprecated, use Sci-Keras (https://github.com/adriangb/scikeras) instead. See https://www.adriangb.com/scikeras/stable/migration.html for help migrating.\n",
      "  keras_model = KerasClassifier(build_fn=create_baseline_model, epochs=epochs, batch_size=128, verbose=1, n=10, input_dim=len(X_train.columns))\n"
     ]
    }
   ],
   "source": [
    "# Baseline model for the neural network. We choose a hidden layer of 10 neurons. The lesser number of neurons helps to eliminate the redundancies in the data and select the more important features.\n",
    "def create_baseline_model(n, input_dim):\n",
    "    # create model\n",
    "    model = Sequential()\n",
    "    model.add(Dense(n, input_dim=input_dim, kernel_initializer='normal', activation='relu'))\n",
    "    model.add(Dense(4, kernel_initializer='normal', activation='sigmoid'))\n",
    "    # Compile model. We use the the logarithmic loss function, and the Adam gradient optimizer.\n",
    "    model.compile(loss='categorical_crossentropy', optimizer='adam', metrics=['accuracy'])\n",
    "    return model\n",
    "KerasClassifier(build_fn=create_baseline_model, epochs=100, batch_size=5, verbose=0, n=20)\n",
    "\n",
    "keras_model = KerasClassifier(build_fn=create_baseline_model, epochs=epochs, batch_size=128, verbose=1, n=10, input_dim=len(X_train.columns))"
   ]
  },
  {
   "cell_type": "code",
   "execution_count": 30,
   "metadata": {},
   "outputs": [
    {
     "name": "stderr",
     "output_type": "stream",
     "text": [
      "2022-06-29 20:21:54.325566: I tensorflow/stream_executor/cuda/cuda_gpu_executor.cc:975] successful NUMA node read from SysFS had negative value (-1), but there must be at least one NUMA node, so returning NUMA node zero\n",
      "2022-06-29 20:21:54.326600: W tensorflow/stream_executor/platform/default/dso_loader.cc:64] Could not load dynamic library 'libcudart.so.11.0'; dlerror: libcudart.so.11.0: cannot open shared object file: No such file or directory\n",
      "2022-06-29 20:21:54.326837: W tensorflow/stream_executor/platform/default/dso_loader.cc:64] Could not load dynamic library 'libcublas.so.11'; dlerror: libcublas.so.11: cannot open shared object file: No such file or directory\n",
      "2022-06-29 20:21:54.326987: W tensorflow/stream_executor/platform/default/dso_loader.cc:64] Could not load dynamic library 'libcublasLt.so.11'; dlerror: libcublasLt.so.11: cannot open shared object file: No such file or directory\n",
      "2022-06-29 20:21:54.327037: W tensorflow/stream_executor/platform/default/dso_loader.cc:64] Could not load dynamic library 'libcufft.so.10'; dlerror: libcufft.so.10: cannot open shared object file: No such file or directory\n",
      "2022-06-29 20:21:54.327178: W tensorflow/stream_executor/platform/default/dso_loader.cc:64] Could not load dynamic library 'libcurand.so.10'; dlerror: libcurand.so.10: cannot open shared object file: No such file or directory\n",
      "2022-06-29 20:21:54.327324: W tensorflow/stream_executor/platform/default/dso_loader.cc:64] Could not load dynamic library 'libcusolver.so.11'; dlerror: libcusolver.so.11: cannot open shared object file: No such file or directory\n",
      "2022-06-29 20:21:54.327476: W tensorflow/stream_executor/platform/default/dso_loader.cc:64] Could not load dynamic library 'libcusparse.so.11'; dlerror: libcusparse.so.11: cannot open shared object file: No such file or directory\n",
      "2022-06-29 20:21:54.327525: W tensorflow/stream_executor/platform/default/dso_loader.cc:64] Could not load dynamic library 'libcudnn.so.8'; dlerror: libcudnn.so.8: cannot open shared object file: No such file or directory\n",
      "2022-06-29 20:21:54.327531: W tensorflow/core/common_runtime/gpu/gpu_device.cc:1850] Cannot dlopen some GPU libraries. Please make sure the missing libraries mentioned above are installed properly if you would like to use GPU. Follow the guide at https://www.tensorflow.org/install/gpu for how to download and setup the required libraries for your platform.\n",
      "Skipping registering GPU devices...\n",
      "2022-06-29 20:21:54.329641: I tensorflow/core/platform/cpu_feature_guard.cc:193] This TensorFlow binary is optimized with oneAPI Deep Neural Network Library (oneDNN) to use the following CPU instructions in performance-critical operations:  AVX2 FMA\n",
      "To enable them in other operations, rebuild TensorFlow with the appropriate compiler flags.\n"
     ]
    },
    {
     "name": "stdout",
     "output_type": "stream",
     "text": [
      "Epoch 1/20\n",
      "1213/1213 [==============================] - 1s 899us/step - loss: 82.3330 - accuracy: 0.4523\n",
      "Epoch 2/20\n",
      "1213/1213 [==============================] - 1s 847us/step - loss: 15.0740 - accuracy: 0.5756\n",
      "Epoch 3/20\n",
      "1213/1213 [==============================] - 1s 836us/step - loss: 14.4605 - accuracy: 0.5987\n",
      "Epoch 4/20\n",
      "1213/1213 [==============================] - 1s 860us/step - loss: 11.4895 - accuracy: 0.6355\n",
      "Epoch 5/20\n",
      "1213/1213 [==============================] - 1s 915us/step - loss: 10.4965 - accuracy: 0.6517\n",
      "Epoch 6/20\n",
      "1213/1213 [==============================] - 1s 851us/step - loss: 9.3845 - accuracy: 0.6671\n",
      "Epoch 7/20\n",
      "1213/1213 [==============================] - 1s 841us/step - loss: 7.8730 - accuracy: 0.6887\n",
      "Epoch 8/20\n",
      "1213/1213 [==============================] - 1s 853us/step - loss: 6.6511 - accuracy: 0.7119\n",
      "Epoch 9/20\n",
      "1213/1213 [==============================] - 1s 847us/step - loss: 5.7473 - accuracy: 0.7315\n",
      "Epoch 10/20\n",
      "1213/1213 [==============================] - 1s 850us/step - loss: 4.2230 - accuracy: 0.7669\n",
      "Epoch 11/20\n",
      "1213/1213 [==============================] - 1s 852us/step - loss: 3.8597 - accuracy: 0.7716\n",
      "Epoch 12/20\n",
      "1213/1213 [==============================] - 1s 838us/step - loss: 3.3083 - accuracy: 0.7901\n",
      "Epoch 13/20\n",
      "1213/1213 [==============================] - 1s 836us/step - loss: 2.6658 - accuracy: 0.8085\n",
      "Epoch 14/20\n",
      "1213/1213 [==============================] - 1s 836us/step - loss: 2.2464 - accuracy: 0.8129\n",
      "Epoch 15/20\n",
      "1213/1213 [==============================] - 1s 844us/step - loss: 1.2766 - accuracy: 0.8498\n",
      "Epoch 16/20\n",
      "1213/1213 [==============================] - 1s 836us/step - loss: 1.0065 - accuracy: 0.8422\n",
      "Epoch 17/20\n",
      "1213/1213 [==============================] - 1s 859us/step - loss: 0.8084 - accuracy: 0.8458\n",
      "Epoch 18/20\n",
      "1213/1213 [==============================] - 1s 835us/step - loss: 0.5949 - accuracy: 0.8634\n",
      "Epoch 19/20\n",
      "1213/1213 [==============================] - 1s 842us/step - loss: 0.3611 - accuracy: 0.8819\n",
      "Epoch 20/20\n",
      "1213/1213 [==============================] - 1s 871us/step - loss: 0.3698 - accuracy: 0.8755\n",
      "1213/1213 [==============================] - 1s 580us/step\n"
     ]
    },
    {
     "ename": "NameError",
     "evalue": "name 'results' is not defined",
     "output_type": "error",
     "traceback": [
      "\u001b[0;31m---------------------------------------------------------------------------\u001b[0m",
      "\u001b[0;31mNameError\u001b[0m                                 Traceback (most recent call last)",
      "Input \u001b[0;32mIn [30]\u001b[0m, in \u001b[0;36m<cell line: 3>\u001b[0;34m()\u001b[0m\n\u001b[1;32m      1\u001b[0m keras_model_accuracy \u001b[38;5;241m=\u001b[39m train_predict_and_save_model(keras_model, \u001b[38;5;124m\"\u001b[39m\u001b[38;5;124mKerasModel\u001b[39m\u001b[38;5;124m\"\u001b[39m, X_train, encoded_y_train, X_test, encoded_y_test, epochs \u001b[38;5;241m=\u001b[39m epochs, batch_size \u001b[38;5;241m=\u001b[39m \u001b[38;5;241m128\u001b[39m)\n\u001b[0;32m----> 3\u001b[0m \u001b[43mresults\u001b[49m\u001b[38;5;241m.\u001b[39mindex \u001b[38;5;241m=\u001b[39m [\u001b[38;5;124m'\u001b[39m\u001b[38;5;124mKeras Model\u001b[39m\u001b[38;5;124m'\u001b[39m]\n\u001b[1;32m      5\u001b[0m results\u001b[38;5;241m.\u001b[39mhead()\n",
      "\u001b[0;31mNameError\u001b[0m: name 'results' is not defined"
     ]
    }
   ],
   "source": [
    "keras_model_accuracy = train_predict_and_save_model(keras_model, \"KerasModel\", X_train, encoded_y_train, X_test, encoded_y_test, epochs = epochs, batch_size = 128)s"
   ]
  },
  {
   "cell_type": "code",
   "execution_count": 31,
   "metadata": {},
   "outputs": [],
   "source": [
    "def build_model(hp):\n",
    "    \"\"\"\n",
    "    Builds model and sets up hyperparameter space to search.\n",
    "    \n",
    "    Parameters\n",
    "    ----------\n",
    "    hp : HyperParameter object\n",
    "        Configures hyperparameters to tune.\n",
    "        \n",
    "    Returns\n",
    "    -------\n",
    "    model : keras model\n",
    "        Compiled model with hyperparameters to tune.\n",
    "    \"\"\"\n",
    "    # Initialize sequential API and start building model.\n",
    "    model = keras.Sequential()\n",
    "    model.add(keras.layers.Flatten(input_dim=(len(X_train.columns))))\n",
    "    \n",
    "    # Tune the number of hidden layers and units in each.\n",
    "    # Number of hidden layers: 1 - 5\n",
    "    # Number of Units: 32 - 512 with stepsize of 32\n",
    "    for i in range(1, hp.Int(\"num_layers\", 2, 6)):\n",
    "        model.add(\n",
    "            keras.layers.Dense(\n",
    "                units=hp.Int(\"units_\" + str(i), min_value=32, max_value=512, step=32),\n",
    "                activation=\"relu\")\n",
    "            )\n",
    "        \n",
    "        # Tune dropout layer with values from 0 - 0.3 with stepsize of 0.1.\n",
    "        model.add(keras.layers.Dropout(hp.Float(\"dropout_\" + str(i), 0, 0.3, step=0.1)))\n",
    "    \n",
    "    # Add output layer.\n",
    "    model.add(keras.layers.Dense(units=4, activation=\"softmax\"))\n",
    "    \n",
    "    # Tune learning rate for Adam optimizer with values from 0.01, 0.001, or 0.0001\n",
    "    hp_learning_rate = hp.Choice(\"learning_rate\", values=[1e-2, 1e-3, 1e-4])\n",
    "    \n",
    "    # Define optimizer, loss, and metrics\n",
    "    model.compile(optimizer=keras.optimizers.Adam(learning_rate=hp_learning_rate),\n",
    "                  loss=keras.losses.SparseCategoricalCrossentropy(),\n",
    "                  metrics=[\"accuracy\"])\n",
    "    \n",
    "    return model"
   ]
  },
  {
   "cell_type": "code",
   "execution_count": 32,
   "metadata": {},
   "outputs": [
    {
     "name": "stdout",
     "output_type": "stream",
     "text": [
      "INFO:tensorflow:Reloading Oracle from existing project kt_dir/kt_hyperband/oracle.json\n"
     ]
    },
    {
     "name": "stderr",
     "output_type": "stream",
     "text": [
      "/tmp/ipykernel_13946/1370665737.py:1: DeprecationWarning: `import kerastuner` is deprecated, please use `import keras_tuner`.\n",
      "  import kerastuner as kt\n"
     ]
    },
    {
     "name": "stdout",
     "output_type": "stream",
     "text": [
      "INFO:tensorflow:Reloading Tuner from kt_dir/kt_hyperband/tuner0.json\n"
     ]
    }
   ],
   "source": [
    "import kerastuner as kt\n",
    "\n",
    "tuner = kt.Hyperband(build_model,\n",
    "                     objective=\"val_accuracy\",\n",
    "                     max_epochs=20,\n",
    "                     factor=3,\n",
    "                     hyperband_iterations=10,\n",
    "                     directory=\"kt_dir\",\n",
    "                     project_name=\"kt_hyperband\",)"
   ]
  },
  {
   "cell_type": "code",
   "execution_count": 33,
   "metadata": {},
   "outputs": [
    {
     "name": "stdout",
     "output_type": "stream",
     "text": [
      "Search space summary\n",
      "Default search space size: 12\n",
      "num_layers (Int)\n",
      "{'default': None, 'conditions': [], 'min_value': 2, 'max_value': 6, 'step': 1, 'sampling': None}\n",
      "units_1 (Int)\n",
      "{'default': None, 'conditions': [], 'min_value': 32, 'max_value': 512, 'step': 32, 'sampling': None}\n",
      "dropout_1 (Float)\n",
      "{'default': 0.0, 'conditions': [], 'min_value': 0.0, 'max_value': 0.3, 'step': 0.1, 'sampling': None}\n",
      "learning_rate (Choice)\n",
      "{'default': 0.01, 'conditions': [], 'values': [0.01, 0.001, 0.0001], 'ordered': True}\n",
      "units_2 (Int)\n",
      "{'default': None, 'conditions': [], 'min_value': 32, 'max_value': 512, 'step': 32, 'sampling': None}\n",
      "dropout_2 (Float)\n",
      "{'default': 0.0, 'conditions': [], 'min_value': 0.0, 'max_value': 0.3, 'step': 0.1, 'sampling': None}\n",
      "units_3 (Int)\n",
      "{'default': None, 'conditions': [], 'min_value': 32, 'max_value': 512, 'step': 32, 'sampling': None}\n",
      "dropout_3 (Float)\n",
      "{'default': 0.0, 'conditions': [], 'min_value': 0.0, 'max_value': 0.3, 'step': 0.1, 'sampling': None}\n",
      "units_4 (Int)\n",
      "{'default': None, 'conditions': [], 'min_value': 32, 'max_value': 512, 'step': 32, 'sampling': None}\n",
      "dropout_4 (Float)\n",
      "{'default': 0.0, 'conditions': [], 'min_value': 0.0, 'max_value': 0.3, 'step': 0.1, 'sampling': None}\n",
      "units_5 (Int)\n",
      "{'default': None, 'conditions': [], 'min_value': 32, 'max_value': 512, 'step': 32, 'sampling': None}\n",
      "dropout_5 (Float)\n",
      "{'default': 0.0, 'conditions': [], 'min_value': 0.0, 'max_value': 0.3, 'step': 0.1, 'sampling': None}\n"
     ]
    }
   ],
   "source": [
    "tuner.search_space_summary()"
   ]
  },
  {
   "cell_type": "code",
   "execution_count": 34,
   "metadata": {},
   "outputs": [],
   "source": [
    "stop_early = tf.keras.callbacks.EarlyStopping(monitor='val_loss', patience=5)"
   ]
  },
  {
   "cell_type": "code",
   "execution_count": 35,
   "metadata": {},
   "outputs": [
    {
     "name": "stdout",
     "output_type": "stream",
     "text": [
      "INFO:tensorflow:Oracle triggered exit\n"
     ]
    }
   ],
   "source": [
    "tuner.search(X_train, encoded_y_train, epochs=epochs, validation_split=0.2, callbacks=[stop_early], verbose=2)"
   ]
  },
  {
   "cell_type": "code",
   "execution_count": 36,
   "metadata": {},
   "outputs": [],
   "source": [
    "# Get the optimal hyperparameters from the results\n",
    "best_hps=tuner.get_best_hyperparameters()[0]"
   ]
  },
  {
   "cell_type": "code",
   "execution_count": 38,
   "metadata": {},
   "outputs": [],
   "source": [
    "# Build model\n",
    "h_model = tuner.hypermodel.build(best_hps)"
   ]
  },
  {
   "cell_type": "code",
   "execution_count": 48,
   "metadata": {},
   "outputs": [
    {
     "name": "stdout",
     "output_type": "stream",
     "text": [
      "Epoch 1/50\n",
      "3879/3879 - 6s - loss: 0.2333 - accuracy: 0.9230 - val_loss: 0.0951 - val_accuracy: 0.9715 - 6s/epoch - 2ms/step\n",
      "Epoch 2/50\n",
      "3879/3879 - 6s - loss: 0.2009 - accuracy: 0.9341 - val_loss: 0.0981 - val_accuracy: 0.9776 - 6s/epoch - 2ms/step\n",
      "Epoch 3/50\n",
      "3879/3879 - 6s - loss: 0.1855 - accuracy: 0.9397 - val_loss: 0.1371 - val_accuracy: 0.9622 - 6s/epoch - 2ms/step\n",
      "Epoch 4/50\n",
      "3879/3879 - 6s - loss: 0.1811 - accuracy: 0.9405 - val_loss: 0.0657 - val_accuracy: 0.9772 - 6s/epoch - 2ms/step\n",
      "Epoch 5/50\n",
      "3879/3879 - 6s - loss: 0.2294 - accuracy: 0.9218 - val_loss: 0.0838 - val_accuracy: 0.9757 - 6s/epoch - 2ms/step\n",
      "Epoch 6/50\n",
      "3879/3879 - 6s - loss: 0.2053 - accuracy: 0.9319 - val_loss: 0.0703 - val_accuracy: 0.9802 - 6s/epoch - 2ms/step\n",
      "Epoch 7/50\n",
      "3879/3879 - 6s - loss: 0.1810 - accuracy: 0.9403 - val_loss: 0.0765 - val_accuracy: 0.9844 - 6s/epoch - 2ms/step\n",
      "Epoch 8/50\n",
      "3879/3879 - 7s - loss: 0.1802 - accuracy: 0.9411 - val_loss: 0.0598 - val_accuracy: 0.9861 - 7s/epoch - 2ms/step\n",
      "Epoch 9/50\n",
      "3879/3879 - 6s - loss: 0.1701 - accuracy: 0.9438 - val_loss: 0.0524 - val_accuracy: 0.9851 - 6s/epoch - 2ms/step\n",
      "Epoch 10/50\n",
      "3879/3879 - 6s - loss: 0.1678 - accuracy: 0.9449 - val_loss: 0.0715 - val_accuracy: 0.9821 - 6s/epoch - 2ms/step\n",
      "Epoch 11/50\n",
      "3879/3879 - 6s - loss: 0.1549 - accuracy: 0.9490 - val_loss: 0.0524 - val_accuracy: 0.9849 - 6s/epoch - 2ms/step\n",
      "Epoch 12/50\n",
      "3879/3879 - 6s - loss: 0.1518 - accuracy: 0.9495 - val_loss: 0.0458 - val_accuracy: 0.9874 - 6s/epoch - 2ms/step\n",
      "Epoch 13/50\n",
      "3879/3879 - 6s - loss: 0.1483 - accuracy: 0.9501 - val_loss: 0.0459 - val_accuracy: 0.9860 - 6s/epoch - 2ms/step\n",
      "Epoch 14/50\n",
      "3879/3879 - 6s - loss: 0.1452 - accuracy: 0.9519 - val_loss: 0.0446 - val_accuracy: 0.9864 - 6s/epoch - 2ms/step\n",
      "Epoch 15/50\n",
      "3879/3879 - 6s - loss: 0.1380 - accuracy: 0.9545 - val_loss: 0.2049 - val_accuracy: 0.9287 - 6s/epoch - 2ms/step\n",
      "Epoch 16/50\n",
      "3879/3879 - 6s - loss: 0.1428 - accuracy: 0.9517 - val_loss: 0.0464 - val_accuracy: 0.9851 - 6s/epoch - 2ms/step\n",
      "Epoch 17/50\n",
      "3879/3879 - 6s - loss: 0.1444 - accuracy: 0.9520 - val_loss: 0.0660 - val_accuracy: 0.9834 - 6s/epoch - 2ms/step\n",
      "Epoch 18/50\n",
      "3879/3879 - 6s - loss: 0.1340 - accuracy: 0.9552 - val_loss: 0.0366 - val_accuracy: 0.9890 - 6s/epoch - 2ms/step\n",
      "Epoch 19/50\n",
      "3879/3879 - 6s - loss: 0.1348 - accuracy: 0.9547 - val_loss: 0.0396 - val_accuracy: 0.9876 - 6s/epoch - 2ms/step\n",
      "Epoch 20/50\n",
      "3879/3879 - 6s - loss: 0.1261 - accuracy: 0.9567 - val_loss: 0.0565 - val_accuracy: 0.9810 - 6s/epoch - 2ms/step\n",
      "Epoch 21/50\n",
      "3879/3879 - 6s - loss: 0.1313 - accuracy: 0.9558 - val_loss: 0.0436 - val_accuracy: 0.9881 - 6s/epoch - 2ms/step\n",
      "Epoch 22/50\n",
      "3879/3879 - 6s - loss: 0.1178 - accuracy: 0.9601 - val_loss: 0.0482 - val_accuracy: 0.9857 - 6s/epoch - 2ms/step\n",
      "Epoch 23/50\n",
      "3879/3879 - 6s - loss: 0.1181 - accuracy: 0.9606 - val_loss: 0.1041 - val_accuracy: 0.9684 - 6s/epoch - 2ms/step\n"
     ]
    }
   ],
   "source": [
    "history = h_model.fit(X_train, encoded_y_train, epochs=50, validation_split=0.2, callbacks=[stop_early], verbose=2)"
   ]
  },
  {
   "cell_type": "code",
   "execution_count": 50,
   "metadata": {},
   "outputs": [
    {
     "name": "stdout",
     "output_type": "stream",
     "text": [
      "dict_keys(['loss', 'accuracy', 'val_loss', 'val_accuracy'])\n"
     ]
    },
    {
     "data": {
      "image/png": "[encoded data removed]",
      "text/plain": [
       "<Figure size 432x288 with 1 Axes>"
      ]
     },
     "metadata": {
      "needs_background": "light"
     },
     "output_type": "display_data"
    }
   ],
   "source": [
    "print(history.history.keys())\n",
    "\n",
    "\n",
    "plt.legend(['train', 'test'], loc='upper left')  \n",
    "plt.subplot(212)  \n",
    "plt.plot(history.history['loss'])  \n",
    "plt.plot(history.history['val_loss'])  \n",
    "plt.title('model loss')  \n",
    "plt.ylabel('loss')  \n",
    "plt.xlabel('epoch')  \n",
    "plt.legend(['train', 'test'], loc='upper left')  \n",
    "plt.show()"
   ]
  },
  {
   "cell_type": "code",
   "execution_count": 55,
   "metadata": {},
   "outputs": [],
   "source": [
    "def deep_learning_model_analysis(model, X_train, y_train, X_test, y_test):\n",
    "\n",
    "    print(f\"> Model: {model.__class__}\\n\")\n",
    "    classes = ['flooding', 'impersonating', 'injection', 'normal']\n",
    "    y_pred=model.predict(X_test)\n",
    "    pred = []\n",
    "    for j in y_pred:\n",
    "        greater = j[0]\n",
    "        index = 0\n",
    "        for y in range(1,4):\n",
    "            if greater < j[y]:\n",
    "                greater = j[y]\n",
    "                index = y\n",
    "        pred.append(index)\n",
    "    y_pred = pred\n",
    "    test_data_accuracy = accuracy_score(y_pred, y_test)\n",
    "    f1 = f1_score(y_test, y_pred, average = None)\n",
    "\n",
    "    print()\n",
    "    print(\"---- Model Analysis ----\")\n",
    "    print('Accuracy: ', test_data_accuracy)\n",
    "    print('F1 Score: ', f1)\n",
    "    \n",
    "    print()\n",
    "    \n",
    "    print(\"Confusion Matrix: \")\n",
    "\n",
    "    con_mat = tf.math.confusion_matrix(labels=y_test, predictions=y_pred).numpy()\n",
    "    \n",
    "    con_mat_norm = np.around(con_mat.astype('float') / con_mat.sum(axis=1)[:, np.newaxis], decimals=2)\n",
    "\n",
    "    con_mat_df = pd.DataFrame(con_mat_norm,\n",
    "                     index = classes, \n",
    "                     columns = classes)\n",
    "    \n",
    "    figure = plt.figure(figsize=(8, 8))\n",
    "    sns.heatmap(con_mat_df, annot=True,cmap=plt.cm.Blues)\n",
    "    plt.tight_layout()\n",
    "    plt.ylabel('True label')\n",
    "    plt.xlabel('Predicted label')\n",
    "    plt.show()\n"
   ]
  },
  {
   "cell_type": "code",
   "execution_count": 56,
   "metadata": {},
   "outputs": [
    {
     "name": "stdout",
     "output_type": "stream",
     "text": [
      "> Model: <class 'keras.engine.sequential.Sequential'>\n",
      "\n",
      "1213/1213 [==============================] - 1s 1ms/step\n",
      "\n",
      "---- Model Analysis ----\n",
      "Accuracy:  0.9652212024337424\n",
      "F1 Score:  [0.96578856 0.95021175 0.99033199 0.95383125]\n",
      "\n",
      "Confusion Matrix: \n"
     ]
    },
    {
     "data": {
      "image/png": "[encoded data removed]",
      "text/plain": [
       "<Figure size 576x576 with 2 Axes>"
      ]
     },
     "metadata": {
      "needs_background": "light"
     },
     "output_type": "display_data"
    }
   ],
   "source": [
    "deep_learning_model_analysis(h_model, X_train, encoded_y_train, X_test, encoded_y_test)"
   ]
  },
  {
   "cell_type": "code",
   "execution_count": 49,
   "metadata": {},
   "outputs": [
    {
     "name": "stdout",
     "output_type": "stream",
     "text": [
      "INFO:tensorflow:Assets written to: HypertunedModel/assets\n"
     ]
    }
   ],
   "source": [
    "#Save model on file\n",
    "h_model.save(\"HypertunedModel\")"
   ]
  },
  {
   "cell_type": "code",
   "execution_count": null,
   "metadata": {},
   "outputs": [],
   "source": [
    "del model"
   ]
  },
  {
   "cell_type": "code",
   "execution_count": null,
   "metadata": {},
   "outputs": [],
   "source": [
    "#load model from file\n",
    "model = load_model('SequentialTFModel')"
   ]
  },
  {
   "cell_type": "code",
   "execution_count": null,
   "metadata": {},
   "outputs": [],
   "source": []
  },
  {
   "cell_type": "code",
   "execution_count": null,
   "metadata": {},
   "outputs": [],
   "source": []
  }
 ],
 "metadata": {
  "kernelspec": {
   "display_name": "Python 3 (ipykernel)",
   "language": "python",
   "name": "python3"
  },
  "language_info": {
   "codemirror_mode": {
    "name": "ipython",
    "version": 3
   },
   "file_extension": ".py",
   "mimetype": "text/x-python",
   "name": "python",
   "nbconvert_exporter": "python",
   "pygments_lexer": "ipython3",
   "version": "3.8.10"
  },
  "vscode": {
   "interpreter": {
    "hash": "916dbcbb3f70747c44a77c7bcd40155683ae19c65e1c03b4aa3499c5328201f1"
   }
  }
 },
 "nbformat": 4,
 "nbformat_minor": 2
}
