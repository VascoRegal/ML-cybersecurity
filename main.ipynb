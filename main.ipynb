{
 "cells": [
  {
   "cell_type": "code",
   "execution_count": 5,
   "metadata": {
    "ExecuteTime": {
     "end_time": "2018-09-11T17:48:50.352373Z",
     "start_time": "2018-09-11T17:48:50.341906Z"
    }
   },
   "outputs": [],
   "source": [
    "# see http://icsdweb.aegean.gr/awid for more info"
   ]
  },
  {
   "cell_type": "code",
   "execution_count": 2,
   "metadata": {
    "ExecuteTime": {
     "end_time": "2018-09-12T01:23:43.095572Z",
     "start_time": "2018-09-12T01:23:43.070303Z"
    }
   },
   "outputs": [],
   "source": [
    "import pandas as pd"
   ]
  },
  {
   "cell_type": "code",
   "execution_count": 3,
   "metadata": {
    "ExecuteTime": {
     "end_time": "2018-09-11T17:48:51.186105Z",
     "start_time": "2018-09-11T17:48:51.020660Z"
    },
    "code_folding": [
     0
    ]
   },
   "outputs": [],
   "source": [
    "# http://icsdweb.aegean.gr/awid/features.html\n",
    "\n",
    "# get the names of the features\n",
    "    \n",
    "features = ['frame.interface_id',\n",
    " 'frame.dlt',\n",
    " 'frame.offset_shift',\n",
    " 'frame.time_epoch',\n",
    " 'frame.time_delta',\n",
    " 'frame.time_delta_displayed',\n",
    " 'frame.time_relative',\n",
    " 'frame.len',\n",
    " 'frame.cap_len',\n",
    " 'frame.marked',\n",
    " 'frame.ignored',\n",
    " 'radiotap.version',\n",
    " 'radiotap.pad',\n",
    " 'radiotap.length',\n",
    " 'radiotap.present.tsft',\n",
    " 'radiotap.present.flags',\n",
    " 'radiotap.present.rate',\n",
    " 'radiotap.present.channel',\n",
    " 'radiotap.present.fhss',\n",
    " 'radiotap.present.dbm_antsignal',\n",
    " 'radiotap.present.dbm_antnoise',\n",
    " 'radiotap.present.lock_quality',\n",
    " 'radiotap.present.tx_attenuation',\n",
    " 'radiotap.present.db_tx_attenuation',\n",
    " 'radiotap.present.dbm_tx_power',\n",
    " 'radiotap.present.antenna',\n",
    " 'radiotap.present.db_antsignal',\n",
    " 'radiotap.present.db_antnoise',\n",
    " 'radiotap.present.rxflags',\n",
    " 'radiotap.present.xchannel',\n",
    " 'radiotap.present.mcs',\n",
    " 'radiotap.present.ampdu',\n",
    " 'radiotap.present.vht',\n",
    " 'radiotap.present.reserved',\n",
    " 'radiotap.present.rtap_ns',\n",
    " 'radiotap.present.vendor_ns',\n",
    " 'radiotap.present.ext',\n",
    " 'radiotap.mactime',\n",
    " 'radiotap.flags.cfp',\n",
    " 'radiotap.flags.preamble',\n",
    " 'radiotap.flags.wep',\n",
    " 'radiotap.flags.frag',\n",
    " 'radiotap.flags.fcs',\n",
    " 'radiotap.flags.datapad',\n",
    " 'radiotap.flags.badfcs',\n",
    " 'radiotap.flags.shortgi',\n",
    " 'radiotap.datarate',\n",
    " 'radiotap.channel.freq',\n",
    " 'radiotap.channel.type.turbo',\n",
    " 'radiotap.channel.type.cck',\n",
    " 'radiotap.channel.type.ofdm',\n",
    " 'radiotap.channel.type.2ghz',\n",
    " 'radiotap.channel.type.5ghz',\n",
    " 'radiotap.channel.type.passive',\n",
    " 'radiotap.channel.type.dynamic',\n",
    " 'radiotap.channel.type.gfsk',\n",
    " 'radiotap.channel.type.gsm',\n",
    " 'radiotap.channel.type.sturbo',\n",
    " 'radiotap.channel.type.half',\n",
    " 'radiotap.channel.type.quarter',\n",
    " 'radiotap.dbm_antsignal',\n",
    " 'radiotap.antenna',\n",
    " 'radiotap.rxflags.badplcp',\n",
    " 'wlan.fc.type_subtype',\n",
    " 'wlan.fc.version',\n",
    " 'wlan.fc.type',\n",
    " 'wlan.fc.subtype',\n",
    " 'wlan.fc.ds',\n",
    " 'wlan.fc.frag',\n",
    " 'wlan.fc.retry',\n",
    " 'wlan.fc.pwrmgt',\n",
    " 'wlan.fc.moredata',\n",
    " 'wlan.fc.protected',\n",
    " 'wlan.fc.order',\n",
    " 'wlan.duration',\n",
    " 'wlan.ra',\n",
    " 'wlan.da',\n",
    " 'wlan.ta',\n",
    " 'wlan.sa',\n",
    " 'wlan.bssid',\n",
    " 'wlan.frag',\n",
    " 'wlan.seq',\n",
    " 'wlan.bar.type',\n",
    " 'wlan.ba.control.ackpolicy',\n",
    " 'wlan.ba.control.multitid',\n",
    " 'wlan.ba.control.cbitmap',\n",
    " 'wlan.bar.compressed.tidinfo',\n",
    " 'wlan.ba.bm',\n",
    " 'wlan.fcs_good',\n",
    " 'wlan_mgt.fixed.capabilities.ess',\n",
    " 'wlan_mgt.fixed.capabilities.ibss',\n",
    " 'wlan_mgt.fixed.capabilities.cfpoll.ap',\n",
    " 'wlan_mgt.fixed.capabilities.privacy',\n",
    " 'wlan_mgt.fixed.capabilities.preamble',\n",
    " 'wlan_mgt.fixed.capabilities.pbcc',\n",
    " 'wlan_mgt.fixed.capabilities.agility',\n",
    " 'wlan_mgt.fixed.capabilities.spec_man',\n",
    " 'wlan_mgt.fixed.capabilities.short_slot_time',\n",
    " 'wlan_mgt.fixed.capabilities.apsd',\n",
    " 'wlan_mgt.fixed.capabilities.radio_measurement',\n",
    " 'wlan_mgt.fixed.capabilities.dsss_ofdm',\n",
    " 'wlan_mgt.fixed.capabilities.del_blk_ack',\n",
    " 'wlan_mgt.fixed.capabilities.imm_blk_ack',\n",
    " 'wlan_mgt.fixed.listen_ival',\n",
    " 'wlan_mgt.fixed.current_ap',\n",
    " 'wlan_mgt.fixed.status_code',\n",
    " 'wlan_mgt.fixed.timestamp',\n",
    " 'wlan_mgt.fixed.beacon',\n",
    " 'wlan_mgt.fixed.aid',\n",
    " 'wlan_mgt.fixed.reason_code',\n",
    " 'wlan_mgt.fixed.auth.alg',\n",
    " 'wlan_mgt.fixed.auth_seq',\n",
    " 'wlan_mgt.fixed.category_code',\n",
    " 'wlan_mgt.fixed.htact',\n",
    " 'wlan_mgt.fixed.chanwidth',\n",
    " 'wlan_mgt.fixed.fragment',\n",
    " 'wlan_mgt.fixed.sequence',\n",
    " 'wlan_mgt.tagged.all',\n",
    " 'wlan_mgt.ssid',\n",
    " 'wlan_mgt.ds.current_channel',\n",
    " 'wlan_mgt.tim.dtim_count',\n",
    " 'wlan_mgt.tim.dtim_period',\n",
    " 'wlan_mgt.tim.bmapctl.multicast',\n",
    " 'wlan_mgt.tim.bmapctl.offset',\n",
    " 'wlan_mgt.country_info.environment',\n",
    " 'wlan_mgt.rsn.version',\n",
    " 'wlan_mgt.rsn.gcs.type',\n",
    " 'wlan_mgt.rsn.pcs.count',\n",
    " 'wlan_mgt.rsn.akms.count',\n",
    " 'wlan_mgt.rsn.akms.type',\n",
    " 'wlan_mgt.rsn.capabilities.preauth',\n",
    " 'wlan_mgt.rsn.capabilities.no_pairwise',\n",
    " 'wlan_mgt.rsn.capabilities.ptksa_replay_counter',\n",
    " 'wlan_mgt.rsn.capabilities.gtksa_replay_counter',\n",
    " 'wlan_mgt.rsn.capabilities.mfpr',\n",
    " 'wlan_mgt.rsn.capabilities.mfpc',\n",
    " 'wlan_mgt.rsn.capabilities.peerkey',\n",
    " 'wlan_mgt.tcprep.trsmt_pow',\n",
    " 'wlan_mgt.tcprep.link_mrg',\n",
    " 'wlan.wep.iv',\n",
    " 'wlan.wep.key',\n",
    " 'wlan.wep.icv',\n",
    " 'wlan.tkip.extiv',\n",
    " 'wlan.ccmp.extiv',\n",
    " 'wlan.qos.tid',\n",
    " 'wlan.qos.priority',\n",
    " 'wlan.qos.eosp',\n",
    " 'wlan.qos.ack',\n",
    " 'wlan.qos.amsdupresent',\n",
    " 'wlan.qos.buf_state_indicated',\n",
    " 'wlan.qos.bit4',\n",
    " 'wlan.qos.txop_dur_req',\n",
    " 'wlan.qos.buf_state_indicated1',\n",
    " 'data.len',\n",
    " 'class']"
   ]
  },
  {
   "cell_type": "code",
   "execution_count": null,
   "metadata": {
    "ExecuteTime": {
     "end_time": "2018-09-11T17:49:31.230772Z",
     "start_time": "2018-09-11T17:48:51.191479Z"
    }
   },
   "outputs": [
    {
     "name": "stderr",
     "output_type": "stream",
     "text": [
      "/tmp/ipykernel_67912/3830310353.py:2: DtypeWarning: Columns (37,38,39,40,41,42,43,44,45,47,48,49,50,51,52,53,54,55,56,57,58,59,60,61,62,74,88) have mixed types. Specify dtype option on import or set low_memory=False.\n",
      "  awid = pd.read_csv(\"data/AWID-CLS-R-Trn.csv\", header=None, names=features)\n"
     ]
    }
   ],
   "source": [
    "# import a training set\n",
    "awid = pd.read_csv(\"data/AWID-CLS-R-Trn.csv\", header=None, names=features)\n",
    "\n",
    "# see the number of rows/columns\n",
    "awid.shape"
   ]
  },
  {
   "cell_type": "code",
   "execution_count": null,
   "metadata": {
    "ExecuteTime": {
     "end_time": "2018-09-11T17:49:31.305996Z",
     "start_time": "2018-09-11T17:49:31.241224Z"
    }
   },
   "outputs": [],
   "source": [
    "# they use ? as a null attribute. We will eventually have to replace them with None values\n",
    "awid.head(n=9)"
   ]
  },
  {
   "cell_type": "code",
   "execution_count": null,
   "metadata": {
    "ExecuteTime": {
     "end_time": "2018-09-11T17:49:31.601124Z",
     "start_time": "2018-09-11T17:49:31.316370Z"
    }
   },
   "outputs": [],
   "source": [
    "# see the distribution of response vars\n",
    "awid['class'].value_counts(normalize=True)"
   ]
  },
  {
   "cell_type": "code",
   "execution_count": null,
   "metadata": {
    "ExecuteTime": {
     "end_time": "2018-09-11T17:49:44.941489Z",
     "start_time": "2018-09-11T17:49:31.607027Z"
    }
   },
   "outputs": [],
   "source": [
    "# claims there are no null values because of the ?'s'\n",
    "awid.isna().sum()"
   ]
  },
  {
   "cell_type": "code",
   "execution_count": null,
   "metadata": {
    "ExecuteTime": {
     "end_time": "2018-09-11T17:50:21.202504Z",
     "start_time": "2018-09-11T17:49:44.948005Z"
    }
   },
   "outputs": [],
   "source": [
    "# replace the ? marks with None\n",
    "awid.replace({\"?\": None}, inplace=True)"
   ]
  },
  {
   "cell_type": "code",
   "execution_count": null,
   "metadata": {
    "ExecuteTime": {
     "end_time": "2018-09-11T17:50:31.946653Z",
     "start_time": "2018-09-11T17:50:21.212174Z"
    }
   },
   "outputs": [],
   "source": [
    "# Many missing pieces of data!\n",
    "awid.isna().sum()"
   ]
  },
  {
   "cell_type": "code",
   "execution_count": null,
   "metadata": {
    "ExecuteTime": {
     "end_time": "2018-09-11T17:50:42.751148Z",
     "start_time": "2018-09-11T17:50:31.950979Z"
    }
   },
   "outputs": [],
   "source": [
    "# goal is to remove columns that have over 50% of missing data\n",
    "columns_with_mostly_null_data = awid.columns[awid.isnull().mean() >= 0.5]\n",
    "\n",
    "# 72 columns are going to be affected!\n",
    "columns_with_mostly_null_data.shape"
   ]
  },
  {
   "cell_type": "code",
   "execution_count": null,
   "metadata": {
    "ExecuteTime": {
     "end_time": "2018-09-11T17:50:44.330318Z",
     "start_time": "2018-09-11T17:50:42.756922Z"
    }
   },
   "outputs": [],
   "source": [
    "# drop the columns with over half missing data\n",
    "awid.drop(columns_with_mostly_null_data, axis=1, inplace=True)"
   ]
  },
  {
   "cell_type": "code",
   "execution_count": null,
   "metadata": {
    "ExecuteTime": {
     "end_time": "2018-09-11T17:50:44.359876Z",
     "start_time": "2018-09-11T17:50:44.340246Z"
    }
   },
   "outputs": [],
   "source": [
    "awid.shape"
   ]
  },
  {
   "cell_type": "code",
   "execution_count": null,
   "metadata": {
    "ExecuteTime": {
     "end_time": "2018-09-11T17:50:50.514912Z",
     "start_time": "2018-09-11T17:50:44.367547Z"
    }
   },
   "outputs": [],
   "source": [
    "# now drop the rows that have missing values\n",
    "awid.dropna(inplace=True)  # drop rows with null data"
   ]
  },
  {
   "cell_type": "code",
   "execution_count": null,
   "metadata": {
    "ExecuteTime": {
     "end_time": "2018-09-12T01:26:00.631348Z",
     "start_time": "2018-09-12T01:26:00.616544Z"
    }
   },
   "outputs": [],
   "source": [
    "# lost 456,169 rows\n",
    "awid.shape"
   ]
  },
  {
   "cell_type": "code",
   "execution_count": null,
   "metadata": {
    "ExecuteTime": {
     "end_time": "2018-09-11T17:50:50.722700Z",
     "start_time": "2018-09-11T17:50:50.520709Z"
    }
   },
   "outputs": [],
   "source": [
    "# doesn't affect our distribution too much\n",
    "\n",
    "# 0.878763  is our null accuracy. Our model must be better than this number to be a contender\n",
    "awid['class'].value_counts(normalize=True)"
   ]
  },
  {
   "cell_type": "code",
   "execution_count": null,
   "metadata": {
    "ExecuteTime": {
     "end_time": "2018-09-11T18:21:26.505275Z",
     "start_time": "2018-09-11T18:21:25.763378Z"
    }
   },
   "outputs": [],
   "source": [
    "# only select numerical columns for our ML algorithms, there should be more..\n",
    "awid.select_dtypes(['number']).shape"
   ]
  },
  {
   "cell_type": "code",
   "execution_count": null,
   "metadata": {
    "ExecuteTime": {
     "end_time": "2018-09-11T18:22:52.129077Z",
     "start_time": "2018-09-11T18:22:21.440765Z"
    }
   },
   "outputs": [],
   "source": [
    "# transform all columns into numerical dtypes\n",
    "for col in awid.columns:\n",
    "    awid[col] = pd.to_numeric(awid[col], errors='ignore')"
   ]
  },
  {
   "cell_type": "code",
   "execution_count": null,
   "metadata": {
    "ExecuteTime": {
     "end_time": "2018-09-11T18:22:55.225156Z",
     "start_time": "2018-09-11T18:22:52.132862Z"
    }
   },
   "outputs": [],
   "source": [
    "# that makes more sense\n",
    "awid.select_dtypes(['number']).shape"
   ]
  },
  {
   "cell_type": "code",
   "execution_count": null,
   "metadata": {
    "ExecuteTime": {
     "end_time": "2018-09-12T01:27:21.214774Z",
     "start_time": "2018-09-12T01:27:10.871973Z"
    }
   },
   "outputs": [],
   "source": [
    "# basic descroptive statistics\n",
    "awid.describe()"
   ]
  },
  {
   "cell_type": "code",
   "execution_count": null,
   "metadata": {},
   "outputs": [],
   "source": []
  },
  {
   "cell_type": "code",
   "execution_count": null,
   "metadata": {
    "ExecuteTime": {
     "end_time": "2018-09-12T01:33:02.673468Z",
     "start_time": "2018-09-12T01:33:01.649555Z"
    }
   },
   "outputs": [],
   "source": [
    "X, y = awid.select_dtypes(['number']), awid['class']"
   ]
  },
  {
   "cell_type": "code",
   "execution_count": null,
   "metadata": {
    "ExecuteTime": {
     "end_time": "2018-09-11T18:44:05.911433Z",
     "start_time": "2018-09-11T18:43:57.554881Z"
    }
   },
   "outputs": [],
   "source": [
    "# do a basic naive bayes fitting\n",
    "from sklearn.naive_bayes import GaussianNB\n",
    "\n",
    "nb = GaussianNB()\n",
    "\n",
    "# fit our model to the data\n",
    "nb.fit(X, y)"
   ]
  },
  {
   "cell_type": "code",
   "execution_count": null,
   "metadata": {},
   "outputs": [],
   "source": []
  },
  {
   "cell_type": "code",
   "execution_count": null,
   "metadata": {},
   "outputs": [],
   "source": []
  },
  {
   "cell_type": "code",
   "execution_count": null,
   "metadata": {
    "ExecuteTime": {
     "end_time": "2018-09-11T18:28:53.001626Z",
     "start_time": "2018-09-11T18:28:17.495406Z"
    }
   },
   "outputs": [],
   "source": [
    "# read in the test data and do the same transformations to it to match the training data\n",
    "awid_test = pd.read_csv(\"../data/AWID-CLS-R-Tst.csv\", header=None, names=features)\n",
    "# drop the problematic columns\n",
    "awid_test.drop(columns_with_mostly_null_data, axis=1, inplace=True)\n",
    "# replace ? with None\n",
    "awid_test.replace({\"?\": None}, inplace=True)\n",
    "# drop the rows with null data\n",
    "awid_test.dropna(inplace=True)  # drop rows with null data\n",
    "# convert columns to numerical values\n",
    "for col in awid_test.columns:\n",
    "    awid_test[col] = pd.to_numeric(awid_test[col], errors='ignore')\n",
    "awid_test.shape"
   ]
  },
  {
   "cell_type": "code",
   "execution_count": null,
   "metadata": {
    "ExecuteTime": {
     "end_time": "2018-09-11T17:51:13.811466Z",
     "start_time": "2018-09-11T17:51:07.434162Z"
    }
   },
   "outputs": [],
   "source": []
  },
  {
   "cell_type": "code",
   "execution_count": null,
   "metadata": {
    "ExecuteTime": {
     "end_time": "2018-09-11T18:44:09.361512Z",
     "start_time": "2018-09-11T18:44:09.353605Z"
    }
   },
   "outputs": [],
   "source": [
    "# basic metric, accuracy\n",
    "from sklearn.metrics import accuracy_score"
   ]
  },
  {
   "cell_type": "code",
   "execution_count": null,
   "metadata": {
    "ExecuteTime": {
     "end_time": "2018-09-12T01:33:08.115932Z",
     "start_time": "2018-09-12T01:33:04.739496Z"
    },
    "scrolled": true
   },
   "outputs": [],
   "source": [
    "X_test = awid_test.select_dtypes(['number'])\n",
    "y_test = awid_test['class']\n",
    "\n",
    "# simple function to test the accuracy of a model fitted on training data on our testing data\n",
    "def get_test_accuracy_of(model):\n",
    "    y_preds = model.predict(X_test)\n",
    "    return accuracy_score(y_preds, y_test)\n",
    "    \n",
    "# naive abyes does very poorly on its own!\n",
    "get_test_accuracy_of(nb)"
   ]
  },
  {
   "cell_type": "code",
   "execution_count": null,
   "metadata": {
    "ExecuteTime": {
     "end_time": "2018-09-11T18:44:36.553216Z",
     "start_time": "2018-09-11T18:44:12.841324Z"
    }
   },
   "outputs": [],
   "source": [
    "from sklearn.linear_model import LogisticRegression\n",
    "\n",
    "lr = LogisticRegression()\n",
    "\n",
    "lr.fit(X, y)\n",
    "\n",
    "# Logistic Regressions does even worse\n",
    "get_test_accuracy_of(lr)"
   ]
  },
  {
   "cell_type": "code",
   "execution_count": null,
   "metadata": {
    "ExecuteTime": {
     "end_time": "2018-09-11T18:44:50.790091Z",
     "start_time": "2018-09-11T18:44:39.624541Z"
    }
   },
   "outputs": [],
   "source": [
    "from sklearn.tree import DecisionTreeClassifier\n",
    "\n",
    "tree = DecisionTreeClassifier()\n",
    "\n",
    "tree.fit(X, y)\n",
    "\n",
    "# Tree does very well!\n",
    "get_test_accuracy_of(tree)"
   ]
  },
  {
   "cell_type": "code",
   "execution_count": null,
   "metadata": {
    "ExecuteTime": {
     "end_time": "2018-09-11T18:44:51.593791Z",
     "start_time": "2018-09-11T18:44:50.795143Z"
    }
   },
   "outputs": [],
   "source": [
    "# see gini scores of decision tree features\n",
    "pd.DataFrame({'feature':awid.select_dtypes(['number']).columns, \n",
    "              'importance':tree.feature_importances_}).sort_values('importance', ascending=False).head(10)"
   ]
  },
  {
   "cell_type": "code",
   "execution_count": null,
   "metadata": {
    "ExecuteTime": {
     "end_time": "2018-09-11T18:45:07.603342Z",
     "start_time": "2018-09-11T18:44:51.600315Z"
    }
   },
   "outputs": [],
   "source": [
    "from sklearn.ensemble import RandomForestClassifier\n",
    "\n",
    "forest = RandomForestClassifier()\n",
    "\n",
    "forest.fit(X, y)\n",
    "\n",
    "# Random Forest does slightly worse\n",
    "get_test_accuracy_of(forest)"
   ]
  },
  {
   "cell_type": "code",
   "execution_count": null,
   "metadata": {
    "ExecuteTime": {
     "end_time": "2018-09-11T18:01:06.692457Z",
     "start_time": "2018-09-11T18:01:06.681432Z"
    }
   },
   "outputs": [],
   "source": []
  },
  {
   "cell_type": "code",
   "execution_count": null,
   "metadata": {
    "ExecuteTime": {
     "end_time": "2018-09-11T18:48:34.877155Z",
     "start_time": "2018-09-11T18:45:17.876024Z"
    }
   },
   "outputs": [],
   "source": [
    "# Create a pipeline that will scale the numerical data and then feed the resulting data into a decision tree\n",
    "\n",
    "from sklearn.pipeline import Pipeline\n",
    "from sklearn.preprocessing import StandardScaler\n",
    "from sklearn.model_selection import GridSearchCV\n",
    "\n",
    "preprocessing = Pipeline([\n",
    "    (\"scale\", StandardScaler()),\n",
    "])\n",
    "\n",
    "pipeline = Pipeline([\n",
    "    (\"preprocessing\", preprocessing),\n",
    "    (\"classifier\", DecisionTreeClassifier())\n",
    "])\n",
    "\n",
    "# try varying levels of depth\n",
    "params = {\n",
    "    \"classifier__max_depth\": [None, 3, 5, 10], \n",
    "         }\n",
    "\n",
    "# instantiate a gridsearch module\n",
    "grid = GridSearchCV(pipeline, params)\n",
    "# fit the module\n",
    "grid.fit(X, y)\n",
    "\n",
    "# test the best model\n",
    "get_test_accuracy_of(grid.best_estimator_)"
   ]
  },
  {
   "cell_type": "code",
   "execution_count": null,
   "metadata": {
    "ExecuteTime": {
     "end_time": "2018-09-11T18:52:31.157867Z",
     "start_time": "2018-09-11T18:48:34.885991Z"
    }
   },
   "outputs": [],
   "source": [
    "# try the same thing with a random forest\n",
    "\n",
    "preprocessing = Pipeline([\n",
    "    (\"scale\", StandardScaler()),\n",
    "])\n",
    "\n",
    "pipeline = Pipeline([\n",
    "    (\"preprocessing\", preprocessing),\n",
    "    (\"classifier\", RandomForestClassifier())\n",
    "])\n",
    "\n",
    "# try varying levels of depth\n",
    "params = {\n",
    "    \"classifier__max_depth\": [None, 3, 5, 10], \n",
    "         }\n",
    "\n",
    "grid = GridSearchCV(pipeline, params)\n",
    "grid.fit(X, y)\n",
    "# best accuracy so far!\n",
    "get_test_accuracy_of(grid.best_estimator_)"
   ]
  },
  {
   "cell_type": "code",
   "execution_count": null,
   "metadata": {},
   "outputs": [],
   "source": [
    "# Correlation Matrix\n",
    "import matplotlib.pyplot as plt\n",
    "import seaborn as sns\n",
    "\n",
    "\n",
    "f, (ax1, ax2) = plt.subplots(2, 1, figsize=(24,20))\n",
    "\n",
    "# Entire DataFrame\n",
    "corr = awid.corr()\n",
    "sns.heatmap(corr, cmap='coolwarm_r', annot_kws={'size':20}, ax=ax1)\n",
    "ax1.set_title(\"Imbalanced Correlation Matrix\", fontsize=14)\n",
    "plt.show()"
   ]
  },
  {
   "cell_type": "code",
   "execution_count": null,
   "metadata": {},
   "outputs": [],
   "source": []
  }
 ],
 "metadata": {
  "kernelspec": {
   "display_name": "Python 3 (ipykernel)",
   "language": "python",
   "name": "python3"
  },
  "language_info": {
   "codemirror_mode": {
    "name": "ipython",
    "version": 3
   },
   "file_extension": ".py",
   "mimetype": "text/x-python",
   "name": "python",
   "nbconvert_exporter": "python",
   "pygments_lexer": "ipython3",
   "version": "3.8.10"
  },
  "vscode": {
   "interpreter": {
    "hash": "916dbcbb3f70747c44a77c7bcd40155683ae19c65e1c03b4aa3499c5328201f1"
   }
  }
 },
 "nbformat": 4,
 "nbformat_minor": 2
}
